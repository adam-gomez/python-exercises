{
 "cells": [
  {
   "cell_type": "markdown",
   "metadata": {},
   "source": [
    "# Control Structure Exercises"
   ]
  },
  {
   "cell_type": "markdown",
   "metadata": {},
   "source": [
    "### Conditional Basics"
   ]
  },
  {
   "cell_type": "code",
   "execution_count": 1,
   "metadata": {},
   "outputs": [
    {
     "name": "stdout",
     "output_type": "stream",
     "text": [
      "What day of the week is it? Tuesday\n",
      "Today is not Monday\n"
     ]
    }
   ],
   "source": [
    "# prompt the user for a day of the week, print out whether the day is Monday or not\n",
    "input_day_of_the_week = input(\"What day of the week is it? \")\n",
    "if input_day_of_the_week.upper() == 'MONDAY':\n",
    "    print('Today is Monday')\n",
    "else:\n",
    "    print('Today is not Monday')"
   ]
  },
  {
   "cell_type": "code",
   "execution_count": 3,
   "metadata": {},
   "outputs": [
    {
     "name": "stdout",
     "output_type": "stream",
     "text": [
      "What day of the week is it? blursday\n",
      "That is not a valid day of the week\n"
     ]
    }
   ],
   "source": [
    "# prompt the user for a day of the week, print out whether the day is a weekday or a weekend\n",
    "input_weekday_weekend = input(\"What day of the week is it? \")\n",
    "if input_weekday_weekend.upper() in ['MONDAY', 'TUESDAY', 'WEDNESDAY', 'THURSDAY', 'FRIDAY']:\n",
    "    print('Today is a weekday')\n",
    "elif input_weekday_weekend.upper() in ['SATURDAY', 'SUNDAY']:\n",
    "    print('Today is a weekend')\n",
    "else:\n",
    "    print('That is not a valid day of the week')"
   ]
  },
  {
   "cell_type": "code",
   "execution_count": 6,
   "metadata": {},
   "outputs": [
    {
     "name": "stdout",
     "output_type": "stream",
     "text": [
      "The week's paycheck will be $7295.6\n"
     ]
    }
   ],
   "source": [
    "# create variables and make up values for\n",
    "# the number of hours worked in one week\n",
    "# the hourly rate\n",
    "# how much the week's paycheck will be\n",
    "# write the python code that calculates the weekly paycheck. You get paid time and a half if you work more than 40 hours\n",
    "num_hours_worked = 53.2\n",
    "hourly_rate = 122\n",
    "if num_hours_worked <= 40:\n",
    "    print(\"The week's paycheck will be $\" + str(num_hours_worked * hourly_rate)) \n",
    "else:\n",
    "    print(\"The week's paycheck will be $\" + str((40 * hourly_rate) + ((num_hours_worked - 40) * hourly_rate * 1.5))) "
   ]
  },
  {
   "cell_type": "markdown",
   "metadata": {},
   "source": [
    "### Loop Basics"
   ]
  },
  {
   "cell_type": "markdown",
   "metadata": {},
   "source": [
    "#### While"
   ]
  },
  {
   "cell_type": "code",
   "execution_count": 9,
   "metadata": {},
   "outputs": [
    {
     "name": "stdout",
     "output_type": "stream",
     "text": [
      "5\n",
      "6\n",
      "7\n",
      "8\n",
      "9\n",
      "10\n",
      "11\n",
      "12\n",
      "13\n",
      "14\n",
      "15\n"
     ]
    }
   ],
   "source": [
    "# Create an integer variable i with a value of 5.\n",
    "# Create a while loop that runs so long as i is less than or equal to 15\n",
    "# Each loop iteration, output the current value of i, then increment i by one.\n",
    "int_var = 5\n",
    "while int_var <= 15:\n",
    "    print(int_var)\n",
    "    int_var += 1"
   ]
  },
  {
   "cell_type": "code",
   "execution_count": 11,
   "metadata": {},
   "outputs": [
    {
     "name": "stdout",
     "output_type": "stream",
     "text": [
      "0\n",
      "2\n",
      "4\n",
      "6\n",
      "8\n",
      "10\n",
      "12\n",
      "14\n",
      "16\n",
      "18\n",
      "20\n",
      "22\n",
      "24\n",
      "26\n",
      "28\n",
      "30\n",
      "32\n",
      "34\n",
      "36\n",
      "38\n",
      "40\n",
      "42\n",
      "44\n",
      "46\n",
      "48\n",
      "50\n",
      "52\n",
      "54\n",
      "56\n",
      "58\n",
      "60\n",
      "62\n",
      "64\n",
      "66\n",
      "68\n",
      "70\n",
      "72\n",
      "74\n",
      "76\n",
      "78\n",
      "80\n",
      "82\n",
      "84\n",
      "86\n",
      "88\n",
      "90\n",
      "92\n",
      "94\n",
      "96\n",
      "98\n",
      "100\n"
     ]
    }
   ],
   "source": [
    "# Create a while loop that will count by 2's starting with 0 and ending at 100. \n",
    "# Follow each number with a new line.\n",
    "new_int = 0\n",
    "while new_int <= 100:\n",
    "    print(new_int)\n",
    "    new_int += 2"
   ]
  },
  {
   "cell_type": "code",
   "execution_count": 12,
   "metadata": {},
   "outputs": [
    {
     "name": "stdout",
     "output_type": "stream",
     "text": [
      "100\n",
      "95\n",
      "90\n",
      "85\n",
      "80\n",
      "75\n",
      "70\n",
      "65\n",
      "60\n",
      "55\n",
      "50\n",
      "45\n",
      "40\n",
      "35\n",
      "30\n",
      "25\n",
      "20\n",
      "15\n",
      "10\n",
      "5\n",
      "0\n",
      "-5\n",
      "-10\n"
     ]
    }
   ],
   "source": [
    "# Alter your loop to count backwards by 5's from 100 to -10.\n",
    "also_int = 100\n",
    "while also_int >= -10:\n",
    "    print(also_int)\n",
    "    also_int -= 5"
   ]
  },
  {
   "cell_type": "code",
   "execution_count": 13,
   "metadata": {},
   "outputs": [
    {
     "name": "stdout",
     "output_type": "stream",
     "text": [
      "2\n",
      "4\n",
      "16\n",
      "256\n",
      "65536\n"
     ]
    }
   ],
   "source": [
    "# Create a while loop that starts at 2, and displays the number squared on each line \n",
    "# while the number is less than 1,000,000.\n",
    "squared_int = 2\n",
    "while squared_int < 1_000_000:\n",
    "    print(squared_int)\n",
    "    squared_int **= 2"
   ]
  },
  {
   "cell_type": "code",
   "execution_count": 14,
   "metadata": {},
   "outputs": [
    {
     "name": "stdout",
     "output_type": "stream",
     "text": [
      "100\n",
      "95\n",
      "90\n",
      "85\n",
      "80\n",
      "75\n",
      "70\n",
      "65\n",
      "60\n",
      "55\n",
      "50\n",
      "45\n",
      "40\n",
      "35\n",
      "30\n",
      "25\n",
      "20\n",
      "15\n",
      "10\n",
      "5\n"
     ]
    }
   ],
   "source": [
    "# Write a loop that uses print to create the output shown below (each number on its own line)\n",
    "# 100 95 90 85 80 75 70 65 60 55 50 45 40 35 30 25 20 15 10 5\n",
    "start_at_100 = 100\n",
    "while start_at_100 > 0:\n",
    "    print(start_at_100)\n",
    "    start_at_100 -= 5"
   ]
  },
  {
   "cell_type": "markdown",
   "metadata": {},
   "source": [
    "#### For Loops"
   ]
  },
  {
   "cell_type": "code",
   "execution_count": 31,
   "metadata": {},
   "outputs": [
    {
     "name": "stdout",
     "output_type": "stream",
     "text": [
      "Give me an integer less than 1,000,000 4\n",
      "4 x 1 = 4\n",
      "4 x 2 = 8\n",
      "4 x 3 = 12\n",
      "4 x 4 = 16\n",
      "4 x 5 = 20\n",
      "4 x 6 = 24\n",
      "4 x 7 = 28\n",
      "4 x 8 = 32\n",
      "4 x 9 = 36\n",
      "4 x 10 = 40\n"
     ]
    }
   ],
   "source": [
    "# Write some code that prompts the user for a number, \n",
    "# then shows a multiplication table up through 10 for that number\n",
    "user_num = input(\"Give me an integer less than 1,000,000 \")\n",
    "for num in list(range(1,11)):\n",
    "    product = num * int(user_num)\n",
    "    print(str(user_num) + \" x \" + str(num) + \" = \" + str(product))"
   ]
  },
  {
   "cell_type": "code",
   "execution_count": 33,
   "metadata": {},
   "outputs": [
    {
     "name": "stdout",
     "output_type": "stream",
     "text": [
      "1\n",
      "22\n",
      "333\n",
      "4444\n",
      "55555\n",
      "666666\n",
      "7777777\n",
      "88888888\n",
      "999999999\n"
     ]
    }
   ],
   "source": [
    "# Create a for loop that uses print to create the output shown below.\n",
    "# 1\n",
    "# 22\n",
    "# 333\n",
    "# ...\n",
    "# 999999999\n",
    "for i in range(1,10):\n",
    "    print(str(i)*i)"
   ]
  },
  {
   "cell_type": "markdown",
   "metadata": {},
   "source": [
    "#### Break and continue"
   ]
  },
  {
   "cell_type": "code",
   "execution_count": 7,
   "metadata": {},
   "outputs": [
    {
     "name": "stdout",
     "output_type": "stream",
     "text": [
      "Please input an odd number between 1 and 50 (inclusive): 50\n",
      "You have failed to enter an odd number. Please try again. \n",
      "Please input an odd number between 1 and 50 (inclusive): 1\n",
      "The missing number will be: 1\n",
      "3\n",
      "5\n",
      "7\n",
      "9\n",
      "11\n",
      "13\n",
      "15\n",
      "17\n",
      "19\n",
      "21\n",
      "23\n",
      "25\n",
      "27\n",
      "29\n",
      "31\n",
      "33\n",
      "35\n",
      "37\n",
      "39\n",
      "41\n",
      "43\n",
      "45\n",
      "47\n",
      "49\n"
     ]
    }
   ],
   "source": [
    "# Prompt the user for an odd number between 1 and 50. \n",
    "# Use a loop and a break statement to continue prompting the user if they enter invalid input. \n",
    "# (Hint: use the isdigit method on strings to determine this). \n",
    "# Use a loop and the continue statement to output all the odd numbers between 1 and 50, except for the number the user entered.\n",
    "while True:\n",
    "\n",
    "    start_odd = input(\"Please input an odd number between 1 and 50 (inclusive): \")\n",
    "    \n",
    "    if not start_odd.isdigit():\n",
    "        print(\"Please input a numeric value. \")\n",
    "        continue\n",
    "\n",
    "    if int(start_odd) < 1 or int(start_odd) > 50:\n",
    "        print(\"You have entered a number outside of the specified range. Please try again. \")\n",
    "        continue\n",
    "        \n",
    "    if int(start_odd) % 2 != 1:\n",
    "        print(\"You have failed to enter an odd number. Please try again. \")\n",
    "        continue\n",
    "        \n",
    "    else:\n",
    "        break\n",
    "        \n",
    "print(f\"The missing number will be: {start_odd}\")\n",
    "\n",
    "for num in range(1, 51):\n",
    "    if num == int(start_odd):\n",
    "        continue\n",
    "    if num % 2 == 1:\n",
    "        print(num)"
   ]
  },
  {
   "cell_type": "code",
   "execution_count": 8,
   "metadata": {},
   "outputs": [
    {
     "name": "stdout",
     "output_type": "stream",
     "text": [
      "Please input an odd number between 1 and 50: beans\n",
      "Sorry I didn't understand that. Please no strings or decimals. Try again. \n",
      "Please input an odd number between 1 and 50: 10.4\n",
      "Sorry I didn't understand that. Please no strings or decimals. Try again. \n",
      "Please input an odd number between 1 and 50: -10\n",
      "You have entered a number outside of the specified range. Please try again. \n",
      "Please input an odd number between 1 and 50: 1\n",
      "The missing number will be: 1\n",
      "3\n",
      "5\n",
      "7\n",
      "9\n",
      "11\n",
      "13\n",
      "15\n",
      "17\n",
      "19\n",
      "21\n",
      "23\n",
      "25\n",
      "27\n",
      "29\n",
      "31\n",
      "33\n",
      "35\n",
      "37\n",
      "39\n",
      "41\n",
      "43\n",
      "45\n",
      "47\n",
      "49\n"
     ]
    }
   ],
   "source": [
    "# This is an alternative solution that uses try and except\n",
    "while True:\n",
    "    \n",
    "    try:\n",
    "        start_odd = int(input(\"Please input an odd number between 1 and 50 (inclusive): \"))\n",
    "    except ValueError:\n",
    "        print(\"Sorry I didn't understand that. Please no strings or decimals. Try again. \")\n",
    "        continue\n",
    "\n",
    "    if int(start_odd) < 1 or int(start_odd) > 50:\n",
    "        print(\"You have entered a number outside of the specified range. Please try again. \")\n",
    "        continue\n",
    "        \n",
    "    if int(start_odd) % 2 != 1:\n",
    "        print(\"You have failed to enter an odd number. Please try again. \")\n",
    "        continue \n",
    "        \n",
    "    else:\n",
    "        break\n",
    "        \n",
    "print(f\"The missing number will be: {start_odd}\")\n",
    "\n",
    "for num in range(1, 51):\n",
    "    if num == int(start_odd):\n",
    "        continue\n",
    "    if num % 2 == 1:\n",
    "        print(num)"
   ]
  },
  {
   "cell_type": "code",
   "execution_count": null,
   "metadata": {},
   "outputs": [],
   "source": []
  }
 ],
 "metadata": {
  "kernelspec": {
   "display_name": "Python 3",
   "language": "python",
   "name": "python3"
  }
 },
 "nbformat": 4,
 "nbformat_minor": 4
}
