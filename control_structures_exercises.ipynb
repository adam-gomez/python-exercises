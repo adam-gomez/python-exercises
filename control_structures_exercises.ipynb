{
 "cells": [
  {
   "cell_type": "markdown",
   "metadata": {},
   "source": [
    "# Control Structure Exercises"
   ]
  },
  {
   "cell_type": "markdown",
   "metadata": {},
   "source": [
    "### Conditional Basics"
   ]
  },
  {
   "cell_type": "code",
   "execution_count": 1,
   "metadata": {},
   "outputs": [
    {
     "name": "stdout",
     "output_type": "stream",
     "text": [
      "What day of the week is it? Tuesday\n",
      "Today is not Monday\n"
     ]
    }
   ],
   "source": [
    "# prompt the user for a day of the week, print out whether the day is Monday or not\n",
    "input_day_of_the_week = input(\"What day of the week is it? \")\n",
    "if input_day_of_the_week.upper() == 'MONDAY':\n",
    "    print('Today is Monday')\n",
    "else:\n",
    "    print('Today is not Monday')"
   ]
  },
  {
   "cell_type": "code",
   "execution_count": 3,
   "metadata": {},
   "outputs": [
    {
     "name": "stdout",
     "output_type": "stream",
     "text": [
      "What day of the week is it? blursday\n",
      "That is not a valid day of the week\n"
     ]
    }
   ],
   "source": [
    "# prompt the user for a day of the week, print out whether the day is a weekday or a weekend\n",
    "input_weekday_weekend = input(\"What day of the week is it? \")\n",
    "if input_weekday_weekend.upper() in ['MONDAY', 'TUESDAY', 'WEDNESDAY', 'THURSDAY', 'FRIDAY']:\n",
    "    print('Today is a weekday')\n",
    "elif input_weekday_weekend.upper() in ['SATURDAY', 'SUNDAY']:\n",
    "    print('Today is a weekend')\n",
    "else:\n",
    "    print('That is not a valid day of the week')"
   ]
  },
  {
   "cell_type": "code",
   "execution_count": 6,
   "metadata": {},
   "outputs": [
    {
     "name": "stdout",
     "output_type": "stream",
     "text": [
      "The week's paycheck will be $7295.6\n"
     ]
    }
   ],
   "source": [
    "# create variables and make up values for\n",
    "# the number of hours worked in one week\n",
    "# the hourly rate\n",
    "# how much the week's paycheck will be\n",
    "# write the python code that calculates the weekly paycheck. You get paid time and a half if you work more than 40 hours\n",
    "num_hours_worked = 53.2\n",
    "hourly_rate = 122\n",
    "if num_hours_worked <= 40:\n",
    "    print(\"The week's paycheck will be $\" + str(num_hours_worked * hourly_rate)) \n",
    "else:\n",
    "    print(\"The week's paycheck will be $\" + str((40 * hourly_rate) + ((num_hours_worked - 40) * hourly_rate * 1.5))) "
   ]
  },
  {
   "cell_type": "markdown",
   "metadata": {},
   "source": [
    "### Loop Basics"
   ]
  },
  {
   "cell_type": "markdown",
   "metadata": {},
   "source": [
    "#### While"
   ]
  },
  {
   "cell_type": "code",
   "execution_count": 9,
   "metadata": {},
   "outputs": [
    {
     "name": "stdout",
     "output_type": "stream",
     "text": [
      "5\n",
      "6\n",
      "7\n",
      "8\n",
      "9\n",
      "10\n",
      "11\n",
      "12\n",
      "13\n",
      "14\n",
      "15\n"
     ]
    }
   ],
   "source": [
    "# Create an integer variable i with a value of 5.\n",
    "# Create a while loop that runs so long as i is less than or equal to 15\n",
    "# Each loop iteration, output the current value of i, then increment i by one.\n",
    "int_var = 5\n",
    "while int_var <= 15:\n",
    "    print(int_var)\n",
    "    int_var += 1"
   ]
  },
  {
   "cell_type": "code",
   "execution_count": 11,
   "metadata": {},
   "outputs": [
    {
     "name": "stdout",
     "output_type": "stream",
     "text": [
      "0\n",
      "2\n",
      "4\n",
      "6\n",
      "8\n",
      "10\n",
      "12\n",
      "14\n",
      "16\n",
      "18\n",
      "20\n",
      "22\n",
      "24\n",
      "26\n",
      "28\n",
      "30\n",
      "32\n",
      "34\n",
      "36\n",
      "38\n",
      "40\n",
      "42\n",
      "44\n",
      "46\n",
      "48\n",
      "50\n",
      "52\n",
      "54\n",
      "56\n",
      "58\n",
      "60\n",
      "62\n",
      "64\n",
      "66\n",
      "68\n",
      "70\n",
      "72\n",
      "74\n",
      "76\n",
      "78\n",
      "80\n",
      "82\n",
      "84\n",
      "86\n",
      "88\n",
      "90\n",
      "92\n",
      "94\n",
      "96\n",
      "98\n",
      "100\n"
     ]
    }
   ],
   "source": [
    "# Create a while loop that will count by 2's starting with 0 and ending at 100. \n",
    "# Follow each number with a new line.\n",
    "new_int = 0\n",
    "while new_int <= 100:\n",
    "    print(new_int)\n",
    "    new_int += 2"
   ]
  },
  {
   "cell_type": "code",
   "execution_count": 12,
   "metadata": {},
   "outputs": [
    {
     "name": "stdout",
     "output_type": "stream",
     "text": [
      "100\n",
      "95\n",
      "90\n",
      "85\n",
      "80\n",
      "75\n",
      "70\n",
      "65\n",
      "60\n",
      "55\n",
      "50\n",
      "45\n",
      "40\n",
      "35\n",
      "30\n",
      "25\n",
      "20\n",
      "15\n",
      "10\n",
      "5\n",
      "0\n",
      "-5\n",
      "-10\n"
     ]
    }
   ],
   "source": [
    "# Alter your loop to count backwards by 5's from 100 to -10.\n",
    "also_int = 100\n",
    "while also_int >= -10:\n",
    "    print(also_int)\n",
    "    also_int -= 5"
   ]
  },
  {
   "cell_type": "code",
   "execution_count": 13,
   "metadata": {},
   "outputs": [
    {
     "name": "stdout",
     "output_type": "stream",
     "text": [
      "2\n",
      "4\n",
      "16\n",
      "256\n",
      "65536\n"
     ]
    }
   ],
   "source": [
    "# Create a while loop that starts at 2, and displays the number squared on each line \n",
    "# while the number is less than 1,000,000.\n",
    "squared_int = 2\n",
    "while squared_int < 1_000_000:\n",
    "    print(squared_int)\n",
    "    squared_int **= 2"
   ]
  },
  {
   "cell_type": "code",
   "execution_count": 14,
   "metadata": {},
   "outputs": [
    {
     "name": "stdout",
     "output_type": "stream",
     "text": [
      "100\n",
      "95\n",
      "90\n",
      "85\n",
      "80\n",
      "75\n",
      "70\n",
      "65\n",
      "60\n",
      "55\n",
      "50\n",
      "45\n",
      "40\n",
      "35\n",
      "30\n",
      "25\n",
      "20\n",
      "15\n",
      "10\n",
      "5\n"
     ]
    }
   ],
   "source": [
    "# Write a loop that uses print to create the output shown below (each number on its own line)\n",
    "# 100 95 90 85 80 75 70 65 60 55 50 45 40 35 30 25 20 15 10 5\n",
    "start_at_100 = 100\n",
    "while start_at_100 > 0:\n",
    "    print(start_at_100)\n",
    "    start_at_100 -= 5"
   ]
  },
  {
   "cell_type": "markdown",
   "metadata": {},
   "source": [
    "#### For Loops"
   ]
  },
  {
   "cell_type": "code",
   "execution_count": 31,
   "metadata": {},
   "outputs": [
    {
     "name": "stdout",
     "output_type": "stream",
     "text": [
      "Give me an integer less than 1,000,000 4\n",
      "4 x 1 = 4\n",
      "4 x 2 = 8\n",
      "4 x 3 = 12\n",
      "4 x 4 = 16\n",
      "4 x 5 = 20\n",
      "4 x 6 = 24\n",
      "4 x 7 = 28\n",
      "4 x 8 = 32\n",
      "4 x 9 = 36\n",
      "4 x 10 = 40\n"
     ]
    }
   ],
   "source": [
    "# Write some code that prompts the user for a number, \n",
    "# then shows a multiplication table up through 10 for that number\n",
    "user_num = input(\"Give me an integer less than 1,000,000 \")\n",
    "for num in list(range(1,11)):\n",
    "    product = num * int(user_num)\n",
    "    print(str(user_num) + \" x \" + str(num) + \" = \" + str(product))"
   ]
  },
  {
   "cell_type": "code",
   "execution_count": 33,
   "metadata": {},
   "outputs": [
    {
     "name": "stdout",
     "output_type": "stream",
     "text": [
      "1\n",
      "22\n",
      "333\n",
      "4444\n",
      "55555\n",
      "666666\n",
      "7777777\n",
      "88888888\n",
      "999999999\n"
     ]
    }
   ],
   "source": [
    "# Create a for loop that uses print to create the output shown below.\n",
    "# 1\n",
    "# 22\n",
    "# 333\n",
    "# ...\n",
    "# 999999999\n",
    "for i in range(1,10):\n",
    "    print(str(i)*i)"
   ]
  },
  {
   "cell_type": "markdown",
   "metadata": {},
   "source": [
    "#### Break and continue"
   ]
  },
  {
   "cell_type": "code",
   "execution_count": 30,
   "metadata": {},
   "outputs": [
    {
     "name": "stdout",
     "output_type": "stream",
     "text": [
      "Please input an odd number between 1 and 50 (inclusive): 3\n",
      "\n",
      "Number to skip is: 3\n",
      "\n",
      "Here is an odd number: 1\n",
      "Yikes! Skipping number: 3\n",
      "Here is an odd number: 5\n",
      "Here is an odd number: 7\n",
      "Here is an odd number: 9\n",
      "Here is an odd number: 11\n",
      "Here is an odd number: 13\n",
      "Here is an odd number: 15\n",
      "Here is an odd number: 17\n",
      "Here is an odd number: 19\n",
      "Here is an odd number: 21\n",
      "Here is an odd number: 23\n",
      "Here is an odd number: 25\n",
      "Here is an odd number: 27\n",
      "Here is an odd number: 29\n",
      "Here is an odd number: 31\n",
      "Here is an odd number: 33\n",
      "Here is an odd number: 35\n",
      "Here is an odd number: 37\n",
      "Here is an odd number: 39\n",
      "Here is an odd number: 41\n",
      "Here is an odd number: 43\n",
      "Here is an odd number: 45\n",
      "Here is an odd number: 47\n",
      "Here is an odd number: 49\n"
     ]
    }
   ],
   "source": [
    "# Prompt the user for an odd number between 1 and 50. \n",
    "# Use a loop and a break statement to continue prompting the user if they enter invalid input. \n",
    "# (Hint: use the isdigit method on strings to determine this). \n",
    "# Use a loop and the continue statement to output all the odd numbers between 1 and 50, except for the number the user entered.\n",
    "while True:\n",
    "\n",
    "    start_odd = input(\"Please input an odd number between 1 and 50 (inclusive): \")\n",
    "    \n",
    "    if not start_odd.isdigit():\n",
    "        print(\"\\nPlease input a positive integer value without decimals. \")\n",
    "        continue\n",
    "\n",
    "    if int(start_odd) < 1 or int(start_odd) > 50:\n",
    "        print(\"\\nYou have entered a number outside of the specified range. Please try again. \")\n",
    "        continue\n",
    "        \n",
    "    if int(start_odd) % 2 != 1:\n",
    "        print(\"\\nYou have failed to enter an odd number. Please try again. \")\n",
    "        continue\n",
    "        \n",
    "    else:\n",
    "        break\n",
    "        \n",
    "print(f\"\\nNumber to skip is: {start_odd}\\n\")\n",
    "\n",
    "for num in range(1, 51):\n",
    "    if num == int(start_odd):\n",
    "        print(f\"Yikes! Skipping number: {start_odd}\")\n",
    "        continue\n",
    "    if num % 2 == 1:\n",
    "        print(f\"Here is an odd number: {num}\")"
   ]
  },
  {
   "cell_type": "code",
   "execution_count": 1,
   "metadata": {},
   "outputs": [
    {
     "name": "stdout",
     "output_type": "stream",
     "text": [
      "Number to skip is: 5\n",
      "Here is an odd number: 1\n",
      "Here is an odd number: 3\n",
      "Yikes! Skipping number: 5\n",
      "Here is an odd number: 7\n",
      "Here is an odd number: 9\n",
      "Here is an odd number: 11\n",
      "Here is an odd number: 13\n",
      "Here is an odd number: 15\n",
      "Here is an odd number: 17\n",
      "Here is an odd number: 19\n",
      "Here is an odd number: 21\n",
      "Here is an odd number: 23\n",
      "Here is an odd number: 25\n",
      "Here is an odd number: 27\n",
      "Here is an odd number: 29\n",
      "Here is an odd number: 31\n",
      "Here is an odd number: 33\n",
      "Here is an odd number: 35\n",
      "Here is an odd number: 37\n",
      "Here is an odd number: 39\n",
      "Here is an odd number: 41\n",
      "Here is an odd number: 43\n",
      "Here is an odd number: 45\n",
      "Here is an odd number: 47\n",
      "Here is an odd number: 49\n"
     ]
    }
   ],
   "source": [
    "# This is an alternative solution that uses try and except\n",
    "while True:\n",
    "    \n",
    "    try:\n",
    "        start_odd = int(input(\"Please input an odd number between 1 and 50 (inclusive): \"))\n",
    "    except ValueError:\n",
    "        print(\"\\nSorry I didn't understand that. Please no strings or decimals. Try again. \")\n",
    "        continue\n",
    "\n",
    "    if int(start_odd) < 1 or int(start_odd) > 50:\n",
    "        print(\"\\nYou have entered a number outside of the specified range. Please try again. \")\n",
    "        continue\n",
    "        \n",
    "    if int(start_odd) % 2 != 1:\n",
    "        print(\"\\nYou have failed to enter an odd number. Please try again. \")\n",
    "        continue \n",
    "        \n",
    "    else:\n",
    "        break\n",
    "        \n",
    "print(f\"\\nNumber to skip is: {start_odd}]\\n\")\n",
    "\n",
    "for num in range(1, 51):\n",
    "    if num == int(start_odd):\n",
    "        print(f\"Yikes! Skipping number: {start_odd}\")\n",
    "        continue\n",
    "    if num % 2 == 1:\n",
    "        print(f\"Here is an odd number: {num}\")"
   ]
  },
  {
   "cell_type": "code",
   "execution_count": 22,
   "metadata": {},
   "outputs": [
    {
     "name": "stdout",
     "output_type": "stream",
     "text": [
      "Please enter a positive integer without decimal places: 1\n",
      "Counting to 1: 0\n",
      "Counting to 1: 1\n"
     ]
    }
   ],
   "source": [
    "# The input function can be used to prompt for input and use that input in your python code.\n",
    "# Prompt the user to enter a positive number and write a loop that counts from 0 to that number. \n",
    "while True:\n",
    "    count_to_num = input(\"Please enter a positive integer without decimal places: \")\n",
    "    \n",
    "    if not int(count_to_num.isdigit()):\n",
    "        print(\"Sorry! That was not a positive integer without decimal places. Please try again.  \")\n",
    "        continue\n",
    "    if int(count_to_num) < 0:\n",
    "        print(\"Please enter a positive number. \")\n",
    "        continue\n",
    "    else:\n",
    "        break\n",
    "\n",
    "if int(num) > 0:\n",
    "    for i in range (0, int(count_to_num) + 1, 1):\n",
    "        print(f\"Counting to {count_to_num}: {i}\")"
   ]
  },
  {
   "cell_type": "code",
   "execution_count": 24,
   "metadata": {},
   "outputs": [
    {
     "name": "stdout",
     "output_type": "stream",
     "text": [
      "Please enter a positive integer without decimal places: -3\n",
      "Sorry! That was not a positive integer without decimal places. Please try again.  \n",
      "Please enter a positive integer without decimal places: 3.2\n",
      "Sorry! That was not a positive integer without decimal places. Please try again.  \n",
      "Please enter a positive integer without decimal places: 3.0\n",
      "Sorry! That was not a positive integer without decimal places. Please try again.  \n",
      "Please enter a positive integer without decimal places: 3\n",
      "Counting to 1 from 3: 3\n",
      "Counting to 1 from 3: 2\n",
      "Counting to 1 from 3: 1\n"
     ]
    }
   ],
   "source": [
    "# Write a program that prompts the user for a positive integer. \n",
    "# Next write a loop that prints out the numbers from the number the user entered down to 1.\n",
    "while True:\n",
    "    count_down_from_num = input(\"Please enter a positive integer without decimal places: \")\n",
    "    \n",
    "    if not int(count_down_from_num.isdigit()):\n",
    "        print(\"Sorry! That was not a positive integer without decimal places. Please try again.  \")\n",
    "        continue\n",
    "    if int(count_to_num) < 0:\n",
    "        print(\"Please enter a positive number. \")\n",
    "        continue\n",
    "    else:\n",
    "        break\n",
    "\n",
    "if int(num) > 0:\n",
    "    for i in range (int(count_down_from_num), 0, -1):\n",
    "        print(f\"Counting to 1 from {count_down_from_num}: {i}\")"
   ]
  },
  {
   "cell_type": "markdown",
   "metadata": {},
   "source": [
    "## FizzBuzz"
   ]
  },
  {
   "cell_type": "code",
   "execution_count": 25,
   "metadata": {},
   "outputs": [
    {
     "name": "stdout",
     "output_type": "stream",
     "text": [
      "1\n",
      "2\n",
      "Fizz\n",
      "4\n",
      "Buzz\n",
      "Fizz\n",
      "7\n",
      "8\n",
      "Fizz\n",
      "Buzz\n",
      "11\n",
      "Fizz\n",
      "13\n",
      "14\n",
      "FizzBuzz\n",
      "16\n",
      "17\n",
      "Fizz\n",
      "19\n",
      "Buzz\n",
      "Fizz\n",
      "22\n",
      "23\n",
      "Fizz\n",
      "Buzz\n",
      "26\n",
      "Fizz\n",
      "28\n",
      "29\n",
      "FizzBuzz\n",
      "31\n",
      "32\n",
      "Fizz\n",
      "34\n",
      "Buzz\n",
      "Fizz\n",
      "37\n",
      "38\n",
      "Fizz\n",
      "Buzz\n",
      "41\n",
      "Fizz\n",
      "43\n",
      "44\n",
      "FizzBuzz\n",
      "46\n",
      "47\n",
      "Fizz\n",
      "49\n",
      "Buzz\n",
      "Fizz\n",
      "52\n",
      "53\n",
      "Fizz\n",
      "Buzz\n",
      "56\n",
      "Fizz\n",
      "58\n",
      "59\n",
      "FizzBuzz\n",
      "61\n",
      "62\n",
      "Fizz\n",
      "64\n",
      "Buzz\n",
      "Fizz\n",
      "67\n",
      "68\n",
      "Fizz\n",
      "Buzz\n",
      "71\n",
      "Fizz\n",
      "73\n",
      "74\n",
      "FizzBuzz\n",
      "76\n",
      "77\n",
      "Fizz\n",
      "79\n",
      "Buzz\n",
      "Fizz\n",
      "82\n",
      "83\n",
      "Fizz\n",
      "Buzz\n",
      "86\n",
      "Fizz\n",
      "88\n",
      "89\n",
      "FizzBuzz\n",
      "91\n",
      "92\n",
      "Fizz\n",
      "94\n",
      "Buzz\n",
      "Fizz\n",
      "97\n",
      "98\n",
      "Fizz\n",
      "Buzz\n"
     ]
    }
   ],
   "source": [
    "# One of the most common interview questions for entry-level programmers is the FizzBuzz test. \n",
    "# Developed by Imran Ghory, the test is designed to test basic looping and conditional logic skills.\n",
    "# Write a program that prints the numbers from 1 to 100.\n",
    "# For multiples of three print \"Fizz\" instead of the number\n",
    "# For the multiples of five print \"Buzz\".\n",
    "# For numbers which are multiples of both three and five print \"FizzBuzz\".\n",
    "\n",
    "for i in range(1, 101, 1):\n",
    "    if i % 3 == 0 and i % 5 == 0:\n",
    "        print(\"FizzBuzz\")\n",
    "    elif i % 3 == 0:\n",
    "        print(\"Fizz\")\n",
    "    elif i % 5 == 0:\n",
    "        print(\"Buzz\")\n",
    "    else:\n",
    "        print(i)"
   ]
  },
  {
   "cell_type": "markdown",
   "metadata": {},
   "source": [
    "## Display a table of powers."
   ]
  },
  {
   "cell_type": "code",
   "execution_count": 37,
   "metadata": {},
   "outputs": [
    {
     "name": "stdout",
     "output_type": "stream",
     "text": [
      "What number would you like to go up to? 6\n",
      "\n",
      "Here is your table!\n",
      "\n",
      "number | squared | cubed\n",
      "------ | ------- | -----\n",
      "1      | 1       | 1\n",
      "2      | 4       | 8\n",
      "3      | 9       | 27\n",
      "4      | 16       | 64\n",
      "5      | 25       | 125\n",
      "6      | 36       | 216\n",
      "Would you like to create another table? (y/n): n\n",
      "\n",
      "Thank you! Stay classy!\n"
     ]
    }
   ],
   "source": [
    "# Prompt the user to enter an integer.\n",
    "# Display a table of squares and cubes from 1 to the value entered.\n",
    "# Ask if the user wants to continue.\n",
    "# Assume that the user will enter valid data.\n",
    "# Only continue if the user agrees to.\n",
    "\n",
    "while True:    \n",
    "    table_target = int(input(\"What number would you like to go up to? \"))\n",
    "    if table_target > 0:\n",
    "        print(\"\\nHere is your table!\\n\")\n",
    "        print(\"number | squared | cubed\")\n",
    "        print(\"------ | ------- | -----\")\n",
    "        number_lst = []\n",
    "        for i in list(range(1, table_target + 1, 1)):\n",
    "            number_lst.append(i)\n",
    "        for n in range(0, len(number_lst), 1):\n",
    "            print(f\"{number_lst[n]}      | {number_lst[n]**2}       | {number_lst[n]**3}\")\n",
    "    user_continue = input(\"Would you like to create another table? (y/n): \")\n",
    "    if user_continue == \"y\":\n",
    "        continue\n",
    "    if user_continue == \"n\":\n",
    "        print(\"\\nThank you! Stay classy!\")\n",
    "        break\n",
    "# BONUS: INCOMPLETE\n",
    "# Research python's format string specifiers to align the table"
   ]
  },
  {
   "cell_type": "code",
   "execution_count": null,
   "metadata": {},
   "outputs": [],
   "source": []
  }
 ],
 "metadata": {
  "kernelspec": {
   "display_name": "Python 3",
   "language": "python",
   "name": "python3"
  },
  "language_info": {
   "codemirror_mode": {
    "name": "ipython",
    "version": 3
   },
   "file_extension": ".py",
   "mimetype": "text/x-python",
   "name": "python",
   "nbconvert_exporter": "python",
   "pygments_lexer": "ipython3",
   "version": "3.7.6"
  }
 },
 "nbformat": 4,
 "nbformat_minor": 4
}
