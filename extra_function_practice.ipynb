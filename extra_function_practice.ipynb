{
 "cells": [
  {
   "cell_type": "markdown",
   "metadata": {},
   "source": [
    "# Additional Functions Exercise"
   ]
  },
  {
   "cell_type": "markdown",
   "metadata": {},
   "source": [
    "1. Comment each line of your function with an explanation of what that line is doing. Make sure to document both the type of all function parameters and the type that will be returned from the function. Also be sure to use the vocabulary we've introduced to describe your python code appropriately.\n",
    "\n",
    "\n",
    "2. Walk us through how the function executes using the comments you wrote and several different example inputs that demonstrate all the possible paths through your function."
   ]
  },
  {
   "cell_type": "markdown",
   "metadata": {},
   "source": [
    "Here's an example:\n",
    "\n",
    "Write a function named sayhello. This function should return a message like \"Hello, NAME!\" Where name is the value passed to the function. If the passed value is the name of your cohort, instead return a message that says \"COHORT is the name of my class!\"."
   ]
  },
  {
   "cell_type": "code",
   "execution_count": null,
   "metadata": {},
   "outputs": [],
   "source": []
  }
 ],
 "metadata": {
  "kernelspec": {
   "display_name": "Python 3",
   "language": "python",
   "name": "python3"
  },
  "language_info": {
   "codemirror_mode": {
    "name": "ipython",
    "version": 3
   },
   "file_extension": ".py",
   "mimetype": "text/x-python",
   "name": "python",
   "nbconvert_exporter": "python",
   "pygments_lexer": "ipython3",
   "version": "3.7.6"
  }
 },
 "nbformat": 4,
 "nbformat_minor": 4
}
