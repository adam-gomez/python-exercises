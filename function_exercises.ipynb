{
 "cells": [
  {
   "cell_type": "markdown",
   "metadata": {},
   "source": [
    "Create a file named function_exercises.py for this exercise. After creating each function specified below, write the necessary code in order to test your function.\n",
    "\n",
    "1. Define a function named is_two. It should accept one input and return True if the passed input is either the number or the string 2, False otherwise.\n",
    "2. Define a function named is_vowel. It should return True if the passed string is a vowel, False otherwise.\n",
    "3. Define a function named is_consonant. It should return True if the passed string is a consonant, False otherwise. Use your is_vowel function to accomplish this.\n",
    "4. Define a function that accepts a string that is a word. The function should capitalize the first letter of the word if the word starts with a consonant.\n",
    "5. Define a function named calculate_tip. It should accept a tip percentage (a number between 0 and 1) and the bill total, and return the amount to tip.\n",
    "6. Define a function named apply_discount. It should accept a original price, and a discount percentage, and return the price after the discount is applied.\n",
    "7. Define a function named handle_commas. It should accept a string that is a number that contains commas in it as input, and return a number as output.\n",
    "8. Define a function named get_letter_grade. It should accept a number and return the letter grade associated with that number (A-F).\n",
    "9. Define a function named remove_vowels that accepts a string and returns a string with all the vowels removed.\n",
    "10. Define a function named normalize_name. It should accept a string and return a valid python identifier, that is:\n",
    "\n",
    "anything that is not a valid python identifier should be removed\n",
    "\n",
    "leading and trailing whitespace should be removed\n",
    "\n",
    "everything should be lowercase\n",
    "\n",
    "spaces should be replaced with underscores\n",
    "\n",
    "for example:\n",
    "Name will become name\n",
    "\n",
    "First Name will become first_name\n",
    "\n",
    "% Completed will become completed\n",
    "\n",
    "11. Write a function named cumulative_sum that accepts a list of numbers and returns a list that is the cumulative sum of the numbers in the list.\n",
    "\n",
    "cumulative_sum([1, 1, 1]) returns [1, 2, 3]\n",
    "\n",
    "cumulative_sum([1, 2, 3, 4]) returns [1, 3, 6, 10]\n",
    "\n",
    "Bonus\n",
    "\n",
    "1. Create a function named twelveto24. It should accept a string in the format 10:45am or 4:30pm and return a string that is the representation of the time in a 24-hour format. Bonus write a function that does the opposite.\n",
    "2. Create a function named col_index. It should accept a spreadsheet column name, and return the index number of the column.\n",
    "\n",
    "col_index('A') returns 1          |\n",
    "col_index('B') returns 2          |\n",
    "col_index('AA') returns 27"
   ]
  },
  {
   "cell_type": "code",
   "execution_count": 5,
   "metadata": {},
   "outputs": [
    {
     "name": "stdout",
     "output_type": "stream",
     "text": [
      "True\n",
      "True\n",
      "False\n",
      "False\n"
     ]
    }
   ],
   "source": [
    "# QUESTION 1\n",
    "# Define a function named is_two. It should accept one input and return True \n",
    "# if the passed input is either the number or the string 2, False otherwise.\n",
    "\n",
    "def is_two(x):\n",
    "    if x == 2 or x == '2':\n",
    "        return True\n",
    "    return False\n",
    "\n",
    "#Testing the function\n",
    "print(is_two(2))\n",
    "print(is_two('2'))\n",
    "print(is_two(1))\n",
    "print(is_two('beans'))"
   ]
  },
  {
   "cell_type": "code",
   "execution_count": 28,
   "metadata": {},
   "outputs": [
    {
     "name": "stdout",
     "output_type": "stream",
     "text": [
      "True\n",
      "False\n",
      "False\n",
      "False\n"
     ]
    }
   ],
   "source": [
    "# QUESTION 2\n",
    "# Define a function named is_vowel. It should return True if the passed string \n",
    "# is a vowel, False otherwise.\n",
    "\n",
    "def is_vowel(string):\n",
    "    if str(string).lower() in ['a', 'e', 'i', 'o', 'u']:\n",
    "        return True\n",
    "    return False\n",
    "\n",
    "#Testing the function\n",
    "print(is_vowel('A'))\n",
    "print(is_vowel(1))\n",
    "print(is_vowel('beans'))\n",
    "print(is_vowel('m'))"
   ]
  },
  {
   "cell_type": "code",
   "execution_count": 39,
   "metadata": {},
   "outputs": [
    {
     "name": "stdout",
     "output_type": "stream",
     "text": [
      "True\n",
      "False\n",
      "False\n",
      "False\n"
     ]
    }
   ],
   "source": [
    "# QUESTION 3\n",
    "# Define a function named is_consonant. It should return True if the passed string\n",
    "# is a consonant, False otherwise. Use your is_vowel function to accomplish this.\n",
    "\n",
    "def is_consonant(string):\n",
    "    if is_vowel(str(string)) or len(str(string)) > 1 or str(string).isdigit():\n",
    "        return False\n",
    "    return True\n",
    "\n",
    "# Testing the function\n",
    "print(is_consonant(\"X\"))\n",
    "print(is_consonant('beans'))\n",
    "print(is_consonant(1))\n",
    "print(is_consonant('e'))"
   ]
  },
  {
   "cell_type": "code",
   "execution_count": 51,
   "metadata": {},
   "outputs": [
    {
     "name": "stdout",
     "output_type": "stream",
     "text": [
      "Queen\n",
      "apple\n",
      "123\n"
     ]
    }
   ],
   "source": [
    "# QUESTION 4\n",
    "# Define a function that accepts a string that is a word. \n",
    "# The function should capitalize the first letter of the word if \n",
    "# the word starts with a consonant.\n",
    "\n",
    "def capitalize_first_letter_if_consonant(word):\n",
    "    if str(word).isdigit():\n",
    "        return (word)\n",
    "    elif is_consonant(word[0]):\n",
    "            return (word[0].upper() + word[1:])\n",
    "    else:\n",
    "        return (word)\n",
    "        \n",
    "# Testing the function\n",
    "print(capitalize_first_letter_if_consonant('queen'))\n",
    "print(capitalize_first_letter_if_consonant('apple'))\n",
    "print(capitalize_first_letter_if_consonant(123))"
   ]
  },
  {
   "cell_type": "code",
   "execution_count": 74,
   "metadata": {},
   "outputs": [
    {
     "name": "stdout",
     "output_type": "stream",
     "text": [
      "0\n",
      "11.73\n",
      "Cannot tip over 100%\n",
      "Cannot tip a negative amount\n"
     ]
    }
   ],
   "source": [
    "# QUESTION 5\n",
    "# Define a function named calculate_tip. It should accept a tip percentage \n",
    "# (a number between 0 and 1) and the bill total, and return the amount to tip.\n",
    "\n",
    "def calculate_tip(bill, tip = 0):\n",
    "    if tip > 1:\n",
    "        return \"Cannot tip over 100%\"\n",
    "    elif tip < 0:\n",
    "        return \"Cannot tip a negative amount\"\n",
    "    else:\n",
    "        tip_amount = round((bill * (1 + tip) - bill), 2)\n",
    "        return tip_amount\n",
    "    \n",
    "# Testing the function\n",
    "print(calculate_tip(50))\n",
    "print(calculate_tip(50, .2345673))\n",
    "print(calculate_tip(50, 1.2))\n",
    "print(calculate_tip(50, -0.2))"
   ]
  },
  {
   "cell_type": "code",
   "execution_count": 80,
   "metadata": {},
   "outputs": [
    {
     "name": "stdout",
     "output_type": "stream",
     "text": [
      "80.0\n",
      "0.0\n",
      "0\n",
      "100\n"
     ]
    }
   ],
   "source": [
    "# QUESTION 6\n",
    "# Define a function named apply_discount. It should accept a original price, \n",
    "# and a discount percentage, and return the price after the discount is applied.\n",
    "\n",
    "def apply_discount(price, discount):\n",
    "    if discount > 100:\n",
    "        return 0\n",
    "    elif discount < 0:\n",
    "        return price\n",
    "    else:\n",
    "        discount_amount = price * discount / 100\n",
    "        return price - discount_amount\n",
    "    \n",
    "# Testing the function\n",
    "print(apply_discount(100, 20))\n",
    "print(apply_discount(100, 100))\n",
    "print(apply_discount(100, 200))\n",
    "print(apply_discount(100, -5))"
   ]
  },
  {
   "cell_type": "code",
   "execution_count": 83,
   "metadata": {},
   "outputs": [
    {
     "name": "stdout",
     "output_type": "stream",
     "text": [
      "1000000\n",
      "10\n"
     ]
    }
   ],
   "source": [
    "# QUESTION 7\n",
    "# Define a function named handle_commas. It should accept a string that is a \n",
    "# number that contains commas in it as input, and return a number as output.\n",
    "\n",
    "def handle_commas(string):\n",
    "    no_commas = ''\n",
    "    for letter in string:\n",
    "        if letter != ',':\n",
    "            no_commas += letter\n",
    "    return no_commas\n",
    "\n",
    "# Testing the function\n",
    "print(handle_commas('1,000,000'))\n",
    "print(handle_commas('1,,,,,0'))"
   ]
  },
  {
   "cell_type": "code",
   "execution_count": 87,
   "metadata": {},
   "outputs": [
    {
     "name": "stdout",
     "output_type": "stream",
     "text": [
      "F\n",
      "F\n",
      "A\n",
      "C\n"
     ]
    }
   ],
   "source": [
    "# QUESTION 8\n",
    "# Define a function named get_letter_grade. It should accept a number \n",
    "# and return the letter grade associated with that number (A-F).\n",
    "\n",
    "def get_letter_grade(num):\n",
    "    if num >= 90:\n",
    "        return 'A'\n",
    "    elif num >= 80:\n",
    "        return 'B'\n",
    "    elif num >= 70:\n",
    "        return 'C'\n",
    "    elif num >= 60:\n",
    "        return 'D'\n",
    "    else:\n",
    "        return 'F'\n",
    "\n",
    "# Testing the function\n",
    "print(get_letter_grade(27))\n",
    "print(get_letter_grade(-30))\n",
    "print(get_letter_grade(130))\n",
    "print(get_letter_grade(77))"
   ]
  },
  {
   "cell_type": "code",
   "execution_count": 90,
   "metadata": {},
   "outputs": [
    {
     "name": "stdout",
     "output_type": "stream",
     "text": [
      "Cnctntn\n",
      "Thr wr 300 slrs n tht shp.\n"
     ]
    }
   ],
   "source": [
    "# QUESTION 9\n",
    "# Define a function named remove_vowels that accepts a string and returns \n",
    "# a string with all the vowels removed.\n",
    "\n",
    "def remove_vowels(string):\n",
    "    no_vowels = ''\n",
    "    for letter in string:\n",
    "        if not is_vowel(letter) or letter.isdigit():\n",
    "            no_vowels += letter\n",
    "    return no_vowels\n",
    "\n",
    "# Testing the function\n",
    "print(remove_vowels(\"Concatenation\"))\n",
    "print(remove_vowels(\"There were 300 sailors on that ship.\"))"
   ]
  },
  {
   "cell_type": "code",
   "execution_count": 100,
   "metadata": {},
   "outputs": [
    {
     "name": "stdout",
     "output_type": "stream",
     "text": [
      "_3_aples__in_a_pod324\n"
     ]
    }
   ],
   "source": [
    "# QUESTION 10\n",
    "# Define a function named normalize_name. It should accept a string and return \n",
    "# a valid python identifier, that is:\n",
    "# - anything that is not a valid python identifier should be removed\n",
    "# - leading and trailing whitespace should be removed\n",
    "# - everything should be lowercase\n",
    "# - spaces should be replaced with underscores\n",
    "# - for example:\n",
    "# - - Name will become name\n",
    "# - - First Name will become first_name\n",
    "# - - % Completed will become completed\n",
    "\n",
    "def normalize_name(string):\n",
    "    normalized_string = ''\n",
    "    stripped_string = string.strip()\n",
    "    if stripped_string[0].isdigit():\n",
    "        stripped_string = '_' + stripped_string\n",
    "    for letter in stripped_string:\n",
    "        if (letter.isalpha() or letter == '_') and not letter == ' ':\n",
    "            normalized_string += letter.lower()\n",
    "        elif letter.isdigit():\n",
    "            normalized_string += letter\n",
    "        elif letter == ' ':\n",
    "            normalized_string += '_'\n",
    "    return normalized_string\n",
    "\n",
    "# Testing the function\n",
    "print(normalize_name(\" 3 A#ples . in a pod324\"))\n",
    "\n",
    "# Note: This function can also be created more simply by using .isidentifier()\n"
   ]
  },
  {
   "cell_type": "code",
   "execution_count": 104,
   "metadata": {
    "scrolled": true
   },
   "outputs": [
    {
     "name": "stdout",
     "output_type": "stream",
     "text": [
      "[1, 3, 6, 10]\n",
      "[1, 2, 3]\n",
      "[1, 3, 6, 10, 15, 21, 28, 36, 45, 55, 66, 78]\n"
     ]
    }
   ],
   "source": [
    "# QUESTION 11\n",
    "# Write a function named cumulative_sum that accepts a list of numbers and\n",
    "# returns a list that is the cumulative sum of the numbers in the list.\n",
    "# - cumulative_sum([1, 1, 1]) returns [1, 2, 3]\n",
    "# - cumulative_sum([1, 2, 3, 4]) returns [1, 3, 6, 10]\n",
    "\n",
    "def cumulative_sum(lst_num):\n",
    "    cumul_sum_lst = []\n",
    "    for i in range(len(lst_num)):\n",
    "        cumul_sum_lst.append(sum(lst_num[:i + 1]))\n",
    "    return cumul_sum_lst\n",
    "\n",
    "# Testing the function\n",
    "print(cumulative_sum([1, 2, 3, 4]))\n",
    "print(cumulative_sum([1, 1, 1]))\n",
    "print(cumulative_sum([1, 2, 3, 4, 5, 6, 7, 8, 9, 10, 11, 12]))"
   ]
  },
  {
   "cell_type": "code",
   "execution_count": 114,
   "metadata": {},
   "outputs": [
    {
     "name": "stdout",
     "output_type": "stream",
     "text": [
      "10:45\n",
      "16:30\n",
      "Please input the time in the correct format.\n",
      "Please input the time in the correct format.\n"
     ]
    }
   ],
   "source": [
    "# BONUS 1\n",
    "# Create a function named twelveto24. It should accept a string in the format\n",
    "# 10:45am or 4:30pm and return a string that is the representation of the time\n",
    "# in a 24-hour format. Bonus write a function that does the opposite.\n",
    "def twelveto24(time):\n",
    "    try:\n",
    "        hour = ''\n",
    "        minute = ''\n",
    "        colon_position = time.rindex(':')\n",
    "        formatted_time = ''\n",
    "        if time[-2:] == 'am':\n",
    "            formatted_time = time[:-2]\n",
    "            return formatted_time       \n",
    "        elif time[-2:] == 'pm':\n",
    "            hour = int(time[:colon_position]) + 12\n",
    "            minute = time[colon_position + 1:-2]\n",
    "            formatted_time = str(hour) + ':' + minute\n",
    "            return formatted_time\n",
    "        else:\n",
    "            return \"Please input the time in the correct format.\"\n",
    "    except ValueError:\n",
    "        return 'Please input the time in the correct format.'\n",
    "    \n",
    "# Testing the function\n",
    "print(twelveto24('10:45am'))\n",
    "print(twelveto24('4:30pm'))\n",
    "print(twelveto24('beans'))\n",
    "print(twelveto24('16:30'))"
   ]
  },
  {
   "cell_type": "code",
   "execution_count": 149,
   "metadata": {},
   "outputs": [
    {
     "name": "stdout",
     "output_type": "stream",
     "text": [
      "1\n",
      "2\n",
      "27\n",
      "2385\n",
      "18279\n"
     ]
    }
   ],
   "source": [
    "# BONUS 2\n",
    "# Create a function named col_index. It should accept a spreadsheet column name, \n",
    "# and return the index number of the column.\n",
    "# - col_index('A') returns 1\n",
    "# - col_index('B') returns 2\n",
    "# - col_index('AA') returns 27\n",
    "# Note: In both google sheets and excel\n",
    "# - after 'A' (26 = 26 from 'A') the next column is 'AA' (27 = 26 from 'A' and 1 from 'A')\n",
    "# - after 'AZ' (52 = 26 from 'A' and 26 from 'Z') the next column is 'BA' (53 = 52 from 'B' and 1 from 'A')\n",
    "# - after 'BZ' (78 = 52 from 'B' and 26 from 'Z') the next column is 'CA' (79 = 78 from 'C' and 1 from 'A')\n",
    "# - after 'ZZ' (702 = 676 from 'Z' and 26 from 'Z') the next column is 'AAA' (703 = 702 from 'AA' and 1 from 'A')\n",
    "# Lets breakdown 'AAA' further:\n",
    "# - The rightmost position is equal to an int value of A-Z:1-26\n",
    "# - The next position #_ is equal to 26 * the int value of A-Z:1-26\n",
    "# - The next position #__ is equal to 26 * 26 * the int value of A-Z:1-26\n",
    "# Therefore, for column AAA:\n",
    "# - The leftmost A = 26 * 26 * 1 = 676\n",
    "# - The middle A = 26 * 1 = 26\n",
    "# - The rightmost A = 1\n",
    "# - SUM(676 + 26 + 1) = 703\n",
    "# By extension, column AAAA would equal:\n",
    "# - Starting from the left:\n",
    "# - The first A = 26 * 26 * 26 * 1 = 17576\n",
    "# - The second A = 26 * 26 * 1 = 676\n",
    "# - The third A = 26 * 1 = 26\n",
    "# - The fourth A = 1\n",
    "# - SUM(17576 + 676 + 26 + 1) = 18279\n",
    "# In summary:\n",
    "# - The rightmost position holds an int value equal to A-Z: 1-26 (see dictionary)\n",
    "# - For n moves to the left from that rightmost letter, the letter in that position is (26)^n * lettervalue (A-Z: 1-26)\n",
    "\n",
    "def col_index(col_name):\n",
    "    letter_to_num = {\n",
    "                    'A': 1, 'B': 2, 'C': 3, 'D': 4, 'E': 5, 'F': 6, 'G': 7,\n",
    "                    'H': 8, 'I': 9, 'J':10, 'K': 11, 'L': 12, 'M': 13, 'N': 14,\n",
    "                    'O': 15, 'P': 16, 'Q': 17, 'R': 18, 'S': 19, 'T': 20, 'U': 21,\n",
    "                    'V': 22, 'W': 23, 'X': 24, 'Y': 25, 'Z': 26\n",
    "                     } # Here we create a dictionary that maps letters to values\n",
    "    col_value = 0 # This is going to store the number we will eventually return\n",
    "    col_length = len(col_name) # We need to get the length of the string, in order to iterate backwards through the string the correct number of times\n",
    "    for i in range(-1, -(len(col_name)+1), -1): # We are going to iterate backwards, starting at -1, and ending at the first position, going -1 step\n",
    "                                                # at a time. This i value will be used as the index for our elements of the string\n",
    "        col_value += letter_to_num[(col_name[i])] * (26 ** -(i + 1))\n",
    "        # To get the final value, we need to apply a formula. Lets walk through the string 'CMS'\n",
    "        # FIRST ITERATION\n",
    "        # The very first check is on col_name[-1], the rightmost position. It will take the value of that letter\n",
    "        # by referencing the dictionary letter_to_num (S = 19), then it will multiply that value by (26 ** -(-1 + 1))\n",
    "        # (26 ** -(-1 + 1)) = 1. So 19 * 1 = 19\n",
    "        # it will then add that to col_value (col_value is now 19)\n",
    "        # SECOND ITERATION\n",
    "        # The next check is on col_name[-2], the second to last position. It will take the value of that letter\n",
    "        # by referencing the dictionary letter_to_num (M = 13), then it will multiply that value by (26 ** -(-2 + 1))\n",
    "        # (26 ** -(-2 + 1)) = 26. So 13 * 26 = 338\n",
    "        # it will then add that to col_value (col_value is now 338)\n",
    "        # THIRD ITERATION\n",
    "        # The next check is on col_name[-3], the final position to check. It will take the value of that letter\n",
    "        # by referencing the dictionary letter_to_num (C = 3), then it will multiply that value by (26 ** -(-3 + 1))\n",
    "        # (26 ** -(-3 + 1)) = 676. So 3 * 676 = 2028\n",
    "        # it will then add that to col_value (col_value is now 2385)\n",
    "        # We have reached our target in our range (-(len(col_name) + 1)) or -(3 + 1) == -4. Remember that our target in\n",
    "        # a range is not inclusive, so by setting -4 as our target, our last iteration was -3. This is why we needed to add\n",
    "        # +1 in line 41 where we define the ending spot. \n",
    "        # Iterations stop. We have the correct col_value and can return it. \n",
    "    return col_value\n",
    "\n",
    "# Testing the function\n",
    "print(col_index('A')) # prints 1\n",
    "print(col_index('B')) # prints 2\n",
    "print(col_index('AA')) # prints 27\n",
    "print(col_index('CMS')) # prints 2385\n",
    "print(col_index('AAAA')) # prints 18279"
   ]
  },
  {
   "cell_type": "code",
   "execution_count": 140,
   "metadata": {},
   "outputs": [
    {
     "data": {
      "text/plain": [
       "[-1, -2, -3]"
      ]
     },
     "execution_count": 140,
     "metadata": {},
     "output_type": "execute_result"
    }
   ],
   "source": [
    "# Previous attempt - FAILURE due to misunderstanding how spreadsheets create column headers\n",
    "# def col_index(col_name):\n",
    "#     letter_to_num = {\n",
    "#                     'A': 1, 'B': 2, 'C': 3, 'D': 4, 'E': 5, 'F': 6, 'G': 7,\n",
    "#                     'H': 8, 'I': 9, 'J':10, 'K': 11, 'L': 12, 'M': 13, 'N': 14,\n",
    "#                     'O': 15, 'P': 16, 'Q': 17, 'R': 18, 'S': 19, 'T': 20, 'U': 21,\n",
    "#                     'V': 22, 'W': 23, 'X': 24, 'Y': 25, 'Z': 26\n",
    "#                     }\n",
    "#     col_value = 0\n",
    "#     col_length = len(col_name)\n",
    "#     for letter in col_name:\n",
    "#         col_value += letter_to_num[letter]\n",
    "#     col_value = col_value + 25 * (col_length - 1)\n",
    "#     return col_value\n",
    "\n",
    "# Testing how backwards iteration works:\n",
    "test_len = 'A'\n",
    "list(range(-1, -(len(test_len) + 1), -1))\n",
    "test_len = 'AA'\n",
    "list(range(-1, -(len(test_len) + 1), -1))\n",
    "test_len = 'AAA'\n",
    "list(range(-1, -(len(test_len) + 1), -1))\n",
    "# Testing the function\n",
    "# print(col_index('A'))\n",
    "# print(col_index('B'))\n",
    "# print(col_index('AA'))\n",
    "# print(col_index('AAB')) #FAILED\n",
    "# print(col_index('AAD')) #FAILED\n",
    "# print(col_index('AAAM')) #FAILED"
   ]
  },
  {
   "cell_type": "code",
   "execution_count": null,
   "metadata": {},
   "outputs": [],
   "source": [
    "# Bonus 2 Code without comment wall\n",
    "def col_index(col_name):\n",
    "    letter_to_num = {\n",
    "                    'A': 1, 'B': 2, 'C': 3, 'D': 4, 'E': 5, 'F': 6, 'G': 7,\n",
    "                    'H': 8, 'I': 9, 'J':10, 'K': 11, 'L': 12, 'M': 13, 'N': 14,\n",
    "                    'O': 15, 'P': 16, 'Q': 17, 'R': 18, 'S': 19, 'T': 20, 'U': 21,\n",
    "                    'V': 22, 'W': 23, 'X': 24, 'Y': 25, 'Z': 26\n",
    "                     }\n",
    "    col_value = 0\n",
    "    col_length = len(col_name)\n",
    "    for i in range(-1, -(len(col_name)+1), -1):\n",
    "        col_value += letter_to_num[(col_name[i])] * (26 ** -(i + 1))\n",
    "    return col_value"
   ]
  }
 ],
 "metadata": {
  "kernelspec": {
   "display_name": "Python 3",
   "language": "python",
   "name": "python3"
  },
  "language_info": {
   "codemirror_mode": {
    "name": "ipython",
    "version": 3
   },
   "file_extension": ".py",
   "mimetype": "text/x-python",
   "name": "python",
   "nbconvert_exporter": "python",
   "pygments_lexer": "ipython3",
   "version": "3.7.6"
  }
 },
 "nbformat": 4,
 "nbformat_minor": 4
}
