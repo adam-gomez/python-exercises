{
 "cells": [
  {
   "cell_type": "markdown",
   "metadata": {},
   "source": [
    "Create a file named function_exercises.py for this exercise. After creating each function specified below, write the necessary code in order to test your function.\n",
    "\n",
    "1. Define a function named is_two. It should accept one input and return True if the passed input is either the number or the string 2, False otherwise.\n",
    "2. Define a function named is_vowel. It should return True if the passed string is a vowel, False otherwise.\n",
    "3. Define a function named is_consonant. It should return True if the passed string is a consonant, False otherwise. Use your is_vowel function to accomplish this.\n",
    "4. Define a function that accepts a string that is a word. The function should capitalize the first letter of the word if the word starts with a consonant.\n",
    "5. Define a function named calculate_tip. It should accept a tip percentage (a number between 0 and 1) and the bill total, and return the amount to tip.\n",
    "6. Define a function named apply_discount. It should accept a original price, and a discount percentage, and return the price after the discount is applied.\n",
    "7. Define a function named handle_commas. It should accept a string that is a number that contains commas in it as input, and return a number as output.\n",
    "8. Define a function named get_letter_grade. It should accept a number and return the letter grade associated with that number (A-F).\n",
    "9. Define a function named remove_vowels that accepts a string and returns a string with all the vowels removed.\n",
    "10. Define a function named normalize_name. It should accept a string and return a valid python identifier, that is:\n",
    "\n",
    "anything that is not a valid python identifier should be removed\n",
    "\n",
    "leading and trailing whitespace should be removed\n",
    "\n",
    "everything should be lowercase\n",
    "\n",
    "spaces should be replaced with underscores\n",
    "\n",
    "for example:\n",
    "Name will become name\n",
    "\n",
    "First Name will become first_name\n",
    "\n",
    "% Completed will become completed\n",
    "\n",
    "11. Write a function named cumulative_sum that accepts a list of numbers and returns a list that is the cumulative sum of the numbers in the list.\n",
    "\n",
    "cumulative_sum([1, 1, 1]) returns [1, 2, 3]\n",
    "\n",
    "cumulative_sum([1, 2, 3, 4]) returns [1, 3, 6, 10]\n",
    "\n",
    "Bonus\n",
    "\n",
    "1. Create a function named twelveto24. It should accept a string in the format 10:45am or 4:30pm and return a string that is the representation of the time in a 24-hour format. Bonus write a function that does the opposite.\n",
    "2. Create a function named col_index. It should accept a spreadsheet column name, and return the index number of the column.\n",
    "\n",
    "col_index('A') returns 1          |\n",
    "col_index('B') returns 2          |\n",
    "col_index('AA') returns 27"
   ]
  },
  {
   "cell_type": "markdown",
   "metadata": {},
   "source": [
    "### Question 1\n",
    "Define a function named is_two. It should accept one input and return True if the passed input is either the number or the string 2, False otherwise"
   ]
  },
  {
   "cell_type": "code",
   "execution_count": 150,
   "metadata": {},
   "outputs": [
    {
     "name": "stdout",
     "output_type": "stream",
     "text": [
      "True\n",
      "True\n",
      "False\n",
      "False\n"
     ]
    }
   ],
   "source": [
    "def is_two(x):\n",
    "    if x == 2 or x == '2':\n",
    "        return True\n",
    "    return False\n",
    "\n",
    "#Testing the function\n",
    "print(is_two(2))\n",
    "print(is_two('2'))\n",
    "print(is_two(1))\n",
    "print(is_two('beans'))"
   ]
  },
  {
   "cell_type": "markdown",
   "metadata": {},
   "source": [
    "### Question 2\n",
    "Define a function named is_vowel. It should return True if the passed string  is a vowel, False otherwise."
   ]
  },
  {
   "cell_type": "code",
   "execution_count": 151,
   "metadata": {},
   "outputs": [
    {
     "name": "stdout",
     "output_type": "stream",
     "text": [
      "True\n",
      "False\n",
      "False\n",
      "False\n"
     ]
    }
   ],
   "source": [
    "def is_vowel(string):\n",
    "    if str(string).lower() in ['a', 'e', 'i', 'o', 'u']:\n",
    "        return True\n",
    "    return False\n",
    "\n",
    "#Testing the function\n",
    "print(is_vowel('A'))\n",
    "print(is_vowel(1))\n",
    "print(is_vowel('beans'))\n",
    "print(is_vowel('m'))"
   ]
  },
  {
   "cell_type": "markdown",
   "metadata": {},
   "source": [
    "### Question 3\n",
    "Define a function named is_consonant. It should return True if the passed string is a consonant, False otherwise. Use your is_vowel function to accomplish this."
   ]
  },
  {
   "cell_type": "code",
   "execution_count": 39,
   "metadata": {},
   "outputs": [
    {
     "name": "stdout",
     "output_type": "stream",
     "text": [
      "True\n",
      "False\n",
      "False\n",
      "False\n"
     ]
    }
   ],
   "source": [
    "def is_consonant(string):\n",
    "    if is_vowel(str(string)) or len(str(string)) > 1 or str(string).isdigit():\n",
    "        return False\n",
    "    return True\n",
    "\n",
    "# Testing the function\n",
    "print(is_consonant(\"X\"))\n",
    "print(is_consonant('beans'))\n",
    "print(is_consonant(1))\n",
    "print(is_consonant('e'))"
   ]
  },
  {
   "cell_type": "markdown",
   "metadata": {},
   "source": [
    "### Question 4\n",
    "Define a function that accepts a string that is a word. The function should capitalize the first letter of the word if the word starts with a consonant."
   ]
  },
  {
   "cell_type": "code",
   "execution_count": 152,
   "metadata": {},
   "outputs": [
    {
     "name": "stdout",
     "output_type": "stream",
     "text": [
      "Queen\n",
      "apple\n",
      "123\n"
     ]
    }
   ],
   "source": [
    "def capitalize_first_letter_if_consonant(word):\n",
    "    if str(word).isdigit():\n",
    "        return (word)\n",
    "    elif is_consonant(word[0]):\n",
    "            return (word[0].upper() + word[1:])\n",
    "    else:\n",
    "        return (word)\n",
    "        \n",
    "# Testing the function\n",
    "print(capitalize_first_letter_if_consonant('queen'))\n",
    "print(capitalize_first_letter_if_consonant('apple'))\n",
    "print(capitalize_first_letter_if_consonant(123))"
   ]
  },
  {
   "cell_type": "markdown",
   "metadata": {},
   "source": [
    "### Question 5\n",
    "Define a function named calculate_tip. It should accept a tip percentage (a number between 0 and 1) and the bill total, and return the amount to tip."
   ]
  },
  {
   "cell_type": "code",
   "execution_count": 74,
   "metadata": {},
   "outputs": [
    {
     "name": "stdout",
     "output_type": "stream",
     "text": [
      "0\n",
      "11.73\n",
      "Cannot tip over 100%\n",
      "Cannot tip a negative amount\n"
     ]
    }
   ],
   "source": [
    "def calculate_tip(bill, tip = 0):\n",
    "    if tip > 1:\n",
    "        return \"Cannot tip over 100%\"\n",
    "    elif tip < 0:\n",
    "        return \"Cannot tip a negative amount\"\n",
    "    else:\n",
    "        tip_amount = round((bill * (1 + tip) - bill), 2)\n",
    "        return tip_amount\n",
    "    \n",
    "# Testing the function\n",
    "print(calculate_tip(50))\n",
    "print(calculate_tip(50, .2345673))\n",
    "print(calculate_tip(50, 1.2))\n",
    "print(calculate_tip(50, -0.2))"
   ]
  },
  {
   "cell_type": "markdown",
   "metadata": {},
   "source": [
    "### Question 6\n",
    "Define a function named apply_discount. It should accept a original price, and a discount percentage, and return the price after the discount is applied."
   ]
  },
  {
   "cell_type": "code",
   "execution_count": 153,
   "metadata": {},
   "outputs": [
    {
     "name": "stdout",
     "output_type": "stream",
     "text": [
      "80.0\n",
      "0.0\n",
      "0\n",
      "100\n"
     ]
    }
   ],
   "source": [
    "def apply_discount(price, discount):\n",
    "    if discount > 100:\n",
    "        return 0\n",
    "    elif discount < 0:\n",
    "        return price\n",
    "    else:\n",
    "        discount_amount = price * discount / 100\n",
    "        return price - discount_amount\n",
    "    \n",
    "# Testing the function\n",
    "print(apply_discount(100, 20))\n",
    "print(apply_discount(100, 100))\n",
    "print(apply_discount(100, 200))\n",
    "print(apply_discount(100, -5))"
   ]
  },
  {
   "cell_type": "markdown",
   "metadata": {},
   "source": [
    "### Question 7\n",
    "Define a function named handle_commas. It should accept a string that is a number that contains commas in it as input, and return a number as output."
   ]
  },
  {
   "cell_type": "code",
   "execution_count": 154,
   "metadata": {},
   "outputs": [
    {
     "name": "stdout",
     "output_type": "stream",
     "text": [
      "1000000\n",
      "10\n"
     ]
    }
   ],
   "source": [
    "def handle_commas(string):\n",
    "    no_commas = ''\n",
    "    for letter in string:\n",
    "        if letter != ',':\n",
    "            no_commas += letter\n",
    "    return no_commas\n",
    "\n",
    "# Testing the function\n",
    "print(handle_commas('1,000,000'))\n",
    "print(handle_commas('1,,,,,0'))"
   ]
  },
  {
   "cell_type": "markdown",
   "metadata": {},
   "source": [
    "### Question 8\n",
    "Define a function named get_letter_grade. It should accept a number and return the letter grade associated with that number (A-F)."
   ]
  },
  {
   "cell_type": "code",
   "execution_count": 87,
   "metadata": {},
   "outputs": [
    {
     "name": "stdout",
     "output_type": "stream",
     "text": [
      "F\n",
      "F\n",
      "A\n",
      "C\n"
     ]
    }
   ],
   "source": [
    "def get_letter_grade(num):\n",
    "    if num >= 90:\n",
    "        return 'A'\n",
    "    elif num >= 80:\n",
    "        return 'B'\n",
    "    elif num >= 70:\n",
    "        return 'C'\n",
    "    elif num >= 60:\n",
    "        return 'D'\n",
    "    else:\n",
    "        return 'F'\n",
    "\n",
    "# Testing the function\n",
    "print(get_letter_grade(27))\n",
    "print(get_letter_grade(-30))\n",
    "print(get_letter_grade(130))\n",
    "print(get_letter_grade(77))"
   ]
  },
  {
   "cell_type": "markdown",
   "metadata": {},
   "source": [
    "### Question 9\n",
    "Define a function named remove_vowels that accepts a string and returns string with all the vowels removed."
   ]
  },
  {
   "cell_type": "code",
   "execution_count": 90,
   "metadata": {},
   "outputs": [
    {
     "name": "stdout",
     "output_type": "stream",
     "text": [
      "Cnctntn\n",
      "Thr wr 300 slrs n tht shp.\n"
     ]
    }
   ],
   "source": [
    "def remove_vowels(string):\n",
    "    no_vowels = ''\n",
    "    for letter in string:\n",
    "        if not is_vowel(letter) or letter.isdigit():\n",
    "            no_vowels += letter\n",
    "    return no_vowels\n",
    "\n",
    "# Testing the function\n",
    "print(remove_vowels(\"Concatenation\"))\n",
    "print(remove_vowels(\"There were 300 sailors on that ship.\"))"
   ]
  },
  {
   "cell_type": "markdown",
   "metadata": {},
   "source": [
    "### Question 10\n",
    "Define a function named normalize_name. It should accept a string and return a valid python identifier, that is:\n",
    "- anything that is not a valid python identifier should be removed\n",
    "- leading and trailing whitespace should be removed\n",
    "- everything should be lowercase\n",
    "- spaces should be replaced with underscores\n",
    "\n",
    "For example:\n",
    "- Name will become name\n",
    "- First Name will become first_name\n",
    "- % Completed will become completed"
   ]
  },
  {
   "cell_type": "code",
   "execution_count": 156,
   "metadata": {},
   "outputs": [
    {
     "name": "stdout",
     "output_type": "stream",
     "text": [
      "_3_aples__in_a_pod324\n",
      "first_name\n",
      "_completed\n"
     ]
    }
   ],
   "source": [
    "def normalize_name(string):\n",
    "    normalized_string = ''\n",
    "    stripped_string = string.strip()\n",
    "    if stripped_string[0].isdigit():\n",
    "        stripped_string = '_' + stripped_string\n",
    "    for letter in stripped_string:\n",
    "        if (letter.isalpha() or letter == '_') and not letter == ' ':\n",
    "            normalized_string += letter.lower()\n",
    "        elif letter.isdigit():\n",
    "            normalized_string += letter\n",
    "        elif letter == ' ':\n",
    "            normalized_string += '_'\n",
    "    return normalized_string\n",
    "\n",
    "# Testing the function\n",
    "print(normalize_name(\" 3 A#ples . in a pod324\"))\n",
    "print(normalize_name(\"First Name\"))\n",
    "print(normalize_name(\"% Completed\"))\n",
    "\n",
    "# Note: This function can also be created more simply by using .isidentifier()"
   ]
  },
  {
   "cell_type": "markdown",
   "metadata": {},
   "source": [
    "### Question 11\n",
    "Write a function named cumulative_sum that accepts a list of numbers and returns a list that is the cumulative sum of the numbers in the list.\n",
    "- cumulative_sum([1, 1, 1]) returns [1, 2, 3]\n",
    "- cumulative_sum([1, 2, 3, 4]) returns [1, 3, 6, 10]"
   ]
  },
  {
   "cell_type": "code",
   "execution_count": 104,
   "metadata": {
    "scrolled": true
   },
   "outputs": [
    {
     "name": "stdout",
     "output_type": "stream",
     "text": [
      "[1, 3, 6, 10]\n",
      "[1, 2, 3]\n",
      "[1, 3, 6, 10, 15, 21, 28, 36, 45, 55, 66, 78]\n"
     ]
    }
   ],
   "source": [
    "def cumulative_sum(lst_num):\n",
    "    cumul_sum_lst = []\n",
    "    for i in range(len(lst_num)):\n",
    "        cumul_sum_lst.append(sum(lst_num[:i + 1]))\n",
    "    return cumul_sum_lst\n",
    "\n",
    "# Testing the function\n",
    "print(cumulative_sum([1, 2, 3, 4]))\n",
    "print(cumulative_sum([1, 1, 1]))\n",
    "print(cumulative_sum([1, 2, 3, 4, 5, 6, 7, 8, 9, 10, 11, 12]))"
   ]
  },
  {
   "cell_type": "markdown",
   "metadata": {},
   "source": [
    "### Bonus Question 1\n",
    "Create a function named twelveto24. It should accept a string in the format 10:45am or 4:30pm and return a string that is the representation of the time in a 24-hour format."
   ]
  },
  {
   "cell_type": "code",
   "execution_count": 172,
   "metadata": {},
   "outputs": [
    {
     "name": "stdout",
     "output_type": "stream",
     "text": [
      "10:45\n",
      "16:30\n",
      "Please input the time in the correct format.\n",
      "18:30\n",
      "00:15\n",
      "23:59\n"
     ]
    }
   ],
   "source": [
    "def twelveto24(time):\n",
    "    try:\n",
    "        hour = ''\n",
    "        minute = ''\n",
    "        colon_position = time.rindex(':')\n",
    "        formatted_time = ''\n",
    "        if time[-2:] == 'am':\n",
    "            hour = int(time[:colon_position])\n",
    "            if int(hour) <= 11:\n",
    "                formatted_time = time[:-2]\n",
    "                return formatted_time\n",
    "            else:\n",
    "                hour = '00'\n",
    "                minute = time[colon_position + 1:-2]\n",
    "                formatted_time = hour + ':' + minute\n",
    "                return formatted_time\n",
    "        elif time[-2:] == 'pm':\n",
    "            hour = int(time[:colon_position]) + 12\n",
    "            minute = time[colon_position + 1:-2]\n",
    "            formatted_time = str(hour) + ':' + minute\n",
    "            return formatted_time\n",
    "        else:\n",
    "            return \"Please input the time in the correct format.\"\n",
    "    except ValueError:\n",
    "        return 'Please input the time in the correct format.'\n",
    "    \n",
    "# Testing the function\n",
    "print(twelveto24('10:45am'))\n",
    "print(twelveto24('4:30pm'))\n",
    "print(twelveto24('beans'))\n",
    "print(twelveto24('6:30pm'))\n",
    "print(twelveto24('12:15am'))\n",
    "print(twelveto24('11:59pm'))"
   ]
  },
  {
   "cell_type": "markdown",
   "metadata": {},
   "source": [
    "Bonus write a function that does the opposite."
   ]
  },
  {
   "cell_type": "code",
   "execution_count": 182,
   "metadata": {},
   "outputs": [
    {
     "name": "stdout",
     "output_type": "stream",
     "text": [
      "8:30am\n",
      "12:17pm\n",
      "12:47am\n",
      "1:12pm\n",
      "11:59pm\n",
      "1:22am\n"
     ]
    }
   ],
   "source": [
    "def twelvefrom24(time24):\n",
    "    \n",
    "    colon_position = time24.rindex(':')\n",
    "    hour = time24[:colon_position]\n",
    "    minute = time24[colon_position + 1:]\n",
    "    formatted_time = ''\n",
    "    if int(hour) == 0:\n",
    "        hour = '12'\n",
    "        formatted_time = hour + ':' + minute + 'am'\n",
    "        return formatted_time\n",
    "    elif int(hour) < 12:\n",
    "        formatted_time = time24 + 'am'\n",
    "        return formatted_time\n",
    "    elif int(hour) == 12:\n",
    "        formatted_time = time24 + 'pm'\n",
    "        return formatted_time\n",
    "#    elif int(hour) > 12:\n",
    "    else:\n",
    "        hour = int(hour) - 12\n",
    "        formatted_time = str(hour) + ':' + minute + 'pm'\n",
    "        return formatted_time\n",
    "    \n",
    "# Testing the Function    \n",
    "print(twelvefrom24('8:30'))\n",
    "print(twelvefrom24('12:17'))\n",
    "print(twelvefrom24('00:47'))\n",
    "print(twelvefrom24('13:12'))\n",
    "print(twelvefrom24('23:59'))\n",
    "print(twelvefrom24('1:22'))"
   ]
  },
  {
   "cell_type": "markdown",
   "metadata": {},
   "source": [
    "#### Bonus Question 2\n",
    "Create a function named col_index. It should accept a spreadsheet column name, and return the index number of the column.\n",
    "- col_index('A') returns 1\n",
    "- col_index('B') returns 2\n",
    "- col_index('AA') returns 27"
   ]
  },
  {
   "cell_type": "markdown",
   "metadata": {},
   "source": [
    "#### Step One: Understanding How Spreadsheets Give Columns Their Name / Step Two: Developing A Mathematical Formula\n",
    "In both Google Sheets and Excel, the first column is given the header 'A'. As each new column is added to the right, the headers cycle through the alphabet in a predictable pattern. After, 'A', the next 25 columns are given the headers 'B' through 'Z' alphabetically. \n",
    "\n",
    "Immediately after column 'Z', the very next column is given the header 'AA'. The next 25 columns are given the headers 'AB' through 'AZ' alphabetically. The very next column is given the header 'BA'. We can see a pattern developing. Every 26 columns, the leftmost letter is advanced to the next alphabetic letter. \n",
    "\n",
    "Once we reach 'ZZ', the next column is 'AAA'. \n",
    "\n",
    "Each individual letter in the column header string represents a numerical value. Lets examine this in detail:\n",
    "- After 'Z' (Column 26) the next column is 'AA' (Column 27). Or in other words, column 'Z' (26 from 'Z') and column 'AA' (26 from the leftmost 'A' and 1 from the rightmost 'A' = 27)\n",
    "- After 'AZ' (26 from 'A' and 26 from 'Z' = 52), the next column is 'BA' (52 from 'B' and 1 from 'A')\n",
    "- After 'BZ' (52 from 'B' and 26 from 'Z' = 78), the next column is 'CA' (78 from 'C' and 1 from 'A')\n",
    "- After 'ZZ' (676 from 'Z' and 26 from 'Z' = 702), the next column is 'AAA' (702 from 'AA' and 1 from 'A')\n",
    "\n",
    "Let's breakdown 'AAA' further:\n",
    "- The rightmost 'A' is equal to a numeric value based on its letter (A-Z:1-26). In this case its worth 1.\n",
    "- The middle 'A' is equal to 26 * the value of its letter. In this case, 26 * 1 = 26. \n",
    "- The leftmost 'A' is equal to 26 * 26 * the value of its letter. In this case, 26 * 26 * 1 = 676.\n",
    "- If we sum the three values up (676 + 26 + 1), we have the column value 703, exactly one more than 'ZZ'. \n",
    "\n",
    "In summary:\n",
    "- the rightmost position of any string holds the smallest value. In a sense, it represents the most current cycling through the alphabet. Its value will be equal to A-Z:1-26\n",
    "- Moving left, the next position will increase by one letter for every cycle through the alphabet (26 columns).\n",
    "- Moving left again, the next position will increase by one letter for every full cycle of the alphabet that the position immediately to the right has gone through. \n",
    "- Putting this in a formula, we see that for n moves to the left from the rightmost letter, the letter in that position has a value of 26 ^ n * A-Z:1-26. \n",
    "\n",
    "As an extended example, column 'AAAA' would equal (reading from the right to left):\n",
    "- 26 ^ 0 * 1 = 1 * 1 = 1\n",
    "- 26 ^ 1 * 1 = 26 * 1 = 26\n",
    "- 26 ^ 2 * 1 = 676 * 1 = 676\n",
    "- 26 ^ 3 * 1 = 17576 * 1 = 17576\n",
    "- TOTAL = 1 + 26 + 676 + 17576 = 18279"
   ]
  },
  {
   "cell_type": "markdown",
   "metadata": {},
   "source": [
    "#### Step Three: Developing a Method to Iterate Through the Header String from Right to Left\n",
    "While there are several great methods for iterating through a string from right to left, by using the range function, we can generate a variable \"i\" that can be simultaneously used as an index and as a mathematical value to represent the increasing value of n from the previous discussion. \n",
    "\n",
    "But how can we iterate from the right to the left? \n",
    "\n",
    "Range takes has three parameters: range(start, end, step)\n",
    "\n",
    "We know where to start. The rightmost element of the string, which is at index -1. Therefore range(-1, end, step)\n",
    "\n",
    "We know where to end. The leftmost element of the string. But if the string is of varying lengths, how do we determine that? We can use the length function. For example, if we are working with string 'AAA', the len(string) will be 3. That means that we want to end our iteration at index -3. \n",
    "\n",
    "So for 'AAA' should we enter range(-1, -len(string), step)? No. This would tell the iteration to stop BEFORE it reached the leftmost A (string[-3]). So we need it to have an ending value of one further. So the correct code is range(-1, -(len(string) + 1), step). \n",
    "\n",
    "Now how should we move in each step of the range. Well, we are starting at -1 and moving to a more negative value, so our step needs to be -1. The final range for our iteration is range(-1, -(len(string) + 1), -1)"
   ]
  },
  {
   "cell_type": "code",
   "execution_count": 184,
   "metadata": {},
   "outputs": [
    {
     "name": "stdout",
     "output_type": "stream",
     "text": [
      "[-1]\n",
      "[-1, -2]\n",
      "[-1, -2, -3]\n"
     ]
    }
   ],
   "source": [
    "# Testing our backwards iteration. These will produce the indices that we will feed into our iteration\n",
    "\n",
    "test_len = 'A'\n",
    "print(list(range(-1, -(len(test_len) + 1), -1)))\n",
    "test_len = 'AA'\n",
    "print(list(range(-1, -(len(test_len) + 1), -1)))\n",
    "test_len = 'AAA'\n",
    "print(list(range(-1, -(len(test_len) + 1), -1)))\n",
    "\n",
    "# Hashtag success"
   ]
  },
  {
   "cell_type": "markdown",
   "metadata": {},
   "source": [
    "#### Step Four: Using the Indices From range(-1, -(len(string)+1), -1)  to Develop Our Mathematical Formula\n",
    "Let's create a dictionary that maps the letter values to numerical values: \n",
    "letter_to_num = {A:1, B:2, ... , Z:26}\n",
    "\n",
    "We know that each letter in the string has a value equal to the following formula:\n",
    "\n",
    "Value = letter_to_num['?'] * 26 ^ n, where n is the number of steps to the left of the rightmost element in the string\n",
    "\n",
    "Lets use the index numbers we developed from our range to generate n at each position in the string. In the rightmost position, we are 0 steps to the left of the rightmost element. So n needs to equal zero. We have an index value of -1. So if we make n = -(-1 + 1), then n = 0. \n",
    "\n",
    "With this in mind, we can update our formula for the value at any given position to be:\n",
    "\n",
    "Value = letter_to_num['?'] * 26 ** -(-index + 1)"
   ]
  },
  {
   "cell_type": "markdown",
   "metadata": {},
   "source": [
    "#### Step Five: Putting it All Together"
   ]
  },
  {
   "cell_type": "code",
   "execution_count": 193,
   "metadata": {},
   "outputs": [
    {
     "name": "stdout",
     "output_type": "stream",
     "text": [
      "1\n",
      "2\n",
      "27\n",
      "2385\n",
      "18279\n"
     ]
    }
   ],
   "source": [
    "def col_index(col_name): # The name of our function is col_index() and the parameter will be called col_name\n",
    "    letter_to_num = {\n",
    "                    'A': 1, 'B': 2, 'C': 3, 'D': 4, 'E': 5, 'F': 6, 'G': 7,\n",
    "                    'H': 8, 'I': 9, 'J':10, 'K': 11, 'L': 12, 'M': 13, 'N': 14,\n",
    "                    'O': 15, 'P': 16, 'Q': 17, 'R': 18, 'S': 19, 'T': 20, 'U': 21,\n",
    "                    'V': 22, 'W': 23, 'X': 24, 'Y': 25, 'Z': 26\n",
    "                     } # Here we create a dictionary that maps our letters to values\n",
    "    col_value = 0 # This is going to store the the total numerical value of the entire string\n",
    "    for index in range(-1, -(len(col_name)+1), -1): \n",
    "    # We are developing our indices (index) that we will iterate through, starting at -1 and going more negative\n",
    "        col_value += letter_to_num[(col_name[index])] * (26 ** -(index + 1))\n",
    "        # To get the final value, we need to find the equivalent value for our letter at our current index\n",
    "        # col_name[index] is our key for our letter_to_num dictionary\n",
    "        # letter_to_num[(col_name[index])] will return our numeric value for that letter\n",
    "        # The rest of the formula will modify that initial value based on its position in the string\n",
    "        \n",
    "# Lets walk through the example string 'CMS':\n",
    "        \n",
    "# FIRST ITERATION '__S'\n",
    "# The very first check is on col_name[-1], the rightmost position. It will take the value of that letter\n",
    "# by referencing the dictionary letter_to_num (S = 19)\n",
    "# Then it will multiply that value by (26 ** -(-1 + 1)) (notice how this is 26 ** 0) What is 26 ** 0? 1\n",
    "# So 19 * 1 = 19\n",
    "# It will add the calculated total via += to col_value (col_value is now 19)\n",
    "\n",
    "# SECOND ITERATION '_M_'\n",
    "# The next check is on col_name[-2], the second to last position. It will take the value of that letter\n",
    "# by referencing the dictionary letter_to_num (M = 13)\n",
    "# Then it will multiply that value by (26 ** -(-2 + 1)) (notice how this is 26 ** 1) What is 26 ** 1? 26\n",
    "# So 13 * 26 = 338\n",
    "# It will add the calculated total to col_value (col_value is now 357)\n",
    "\n",
    "# THIRD ITERATION 'C__'\n",
    "# The next check is on col_name[-3], the final position to check. It will take the value of that letter\n",
    "# by referencing the dictionary letter_to_num (C = 3)\n",
    "# Then it will multiply that value by (26 ** -(-3 + 1)) (notice how this is 26 ** 2) What is 26 ** 2? 676\n",
    "# So 3 * 676 = 2028\n",
    "# it will then add that to col_value (col_value is now 2385)\n",
    "        \n",
    "# NO MORE ITERATIONS\n",
    "# We have reached our target in our range (-(len(col_name) + 1)) or -(3 + 1) == -4. \n",
    "# Remember that the end value in a range is not inclusive\n",
    "# By setting -4 as our end value, our last iteration was at -3. \n",
    "\n",
    "# Our col_value now contains the sum of the individual positional values (2385). Let's return it. \n",
    "    return col_value\n",
    "\n",
    "# Testing the function\n",
    "print(col_index('A')) # prints 1\n",
    "print(col_index('B')) # prints 2\n",
    "print(col_index('AA')) # prints 27\n",
    "print(col_index('CMS')) # prints 2385\n",
    "print(col_index('AAAA')) # prints 18279"
   ]
  },
  {
   "cell_type": "markdown",
   "metadata": {},
   "source": [
    "Bonus 2 Final Code Without Comments"
   ]
  },
  {
   "cell_type": "code",
   "execution_count": 192,
   "metadata": {},
   "outputs": [
    {
     "name": "stdout",
     "output_type": "stream",
     "text": [
      "2385\n"
     ]
    }
   ],
   "source": [
    "def col_index(col_name):\n",
    "    letter_to_num = {\n",
    "                    'A': 1, 'B': 2, 'C': 3, 'D': 4, 'E': 5, 'F': 6, 'G': 7,\n",
    "                    'H': 8, 'I': 9, 'J':10, 'K': 11, 'L': 12, 'M': 13, 'N': 14,\n",
    "                    'O': 15, 'P': 16, 'Q': 17, 'R': 18, 'S': 19, 'T': 20, 'U': 21,\n",
    "                    'V': 22, 'W': 23, 'X': 24, 'Y': 25, 'Z': 26\n",
    "                     }\n",
    "    col_value = 0\n",
    "    for index in range(-1, -(len(col_name)+1), -1):\n",
    "        col_value += letter_to_num[(col_name[index])] * (26 ** -(index + 1))\n",
    "    return col_value\n",
    "\n",
    "print(col_index('CMS'))"
   ]
  },
  {
   "cell_type": "code",
   "execution_count": 194,
   "metadata": {},
   "outputs": [],
   "source": [
    "# Previous attempt - FAILURE due to misunderstanding how spreadsheets create column headers\n",
    "# def col_index(col_name):\n",
    "#     letter_to_num = {\n",
    "#                     'A': 1, 'B': 2, 'C': 3, 'D': 4, 'E': 5, 'F': 6, 'G': 7,\n",
    "#                     'H': 8, 'I': 9, 'J':10, 'K': 11, 'L': 12, 'M': 13, 'N': 14,\n",
    "#                     'O': 15, 'P': 16, 'Q': 17, 'R': 18, 'S': 19, 'T': 20, 'U': 21,\n",
    "#                     'V': 22, 'W': 23, 'X': 24, 'Y': 25, 'Z': 26\n",
    "#                     }\n",
    "#     col_value = 0\n",
    "#     col_length = len(col_name)\n",
    "#     for letter in col_name:\n",
    "#         col_value += letter_to_num[letter]\n",
    "#     col_value = col_value + 25 * (col_length - 1)\n",
    "#     return col_value\n",
    "\n",
    "# Testing the function\n",
    "# print(col_index('A'))\n",
    "# print(col_index('B'))\n",
    "# print(col_index('AA'))\n",
    "# print(col_index('AAB')) #FAILED\n",
    "# print(col_index('AAD')) #FAILED\n",
    "# print(col_index('AAAM')) #FAILED"
   ]
  },
  {
   "cell_type": "code",
   "execution_count": null,
   "metadata": {},
   "outputs": [],
   "source": []
  }
 ],
 "metadata": {
  "kernelspec": {
   "display_name": "Python 3",
   "language": "python",
   "name": "python3"
  },
  "language_info": {
   "codemirror_mode": {
    "name": "ipython",
    "version": 3
   },
   "file_extension": ".py",
   "mimetype": "text/x-python",
   "name": "python",
   "nbconvert_exporter": "python",
   "pygments_lexer": "ipython3",
   "version": "3.7.6"
  }
 },
 "nbformat": 4,
 "nbformat_minor": 4
}
