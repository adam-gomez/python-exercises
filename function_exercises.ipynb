{
 "cells": [
  {
   "cell_type": "markdown",
   "metadata": {},
   "source": [
    "Create a file named function_exercises.py for this exercise. After creating each function specified below, write the necessary code in order to test your function.\n",
    "\n",
    "1. Define a function named is_two. It should accept one input and return True if the passed input is either the number or the string 2, False otherwise.\n",
    "2. Define a function named is_vowel. It should return True if the passed string is a vowel, False otherwise.\n",
    "3. Define a function named is_consonant. It should return True if the passed string is a consonant, False otherwise. Use your is_vowel function to accomplish this.\n",
    "4. Define a function that accepts a string that is a word. The function should capitalize the first letter of the word if the word starts with a consonant.\n",
    "5. Define a function named calculate_tip. It should accept a tip percentage (a number between 0 and 1) and the bill total, and return the amount to tip.\n",
    "6. Define a function named apply_discount. It should accept a original price, and a discount percentage, and return the price after the discount is applied.\n",
    "7. Define a function named handle_commas. It should accept a string that is a number that contains commas in it as input, and return a number as output.\n",
    "8. Define a function named get_letter_grade. It should accept a number and return the letter grade associated with that number (A-F).\n",
    "9. Define a function named remove_vowels that accepts a string and returns a string with all the vowels removed.\n",
    "10. Define a function named normalize_name. It should accept a string and return a valid python identifier, that is:\n",
    "\n",
    "anything that is not a valid python identifier should be removed\n",
    "\n",
    "leading and trailing whitespace should be removed\n",
    "\n",
    "everything should be lowercase\n",
    "\n",
    "spaces should be replaced with underscores\n",
    "\n",
    "for example:\n",
    "Name will become name\n",
    "\n",
    "First Name will become first_name\n",
    "\n",
    "% Completed will become completed\n",
    "\n",
    "11. Write a function named cumulative_sum that accepts a list of numbers and returns a list that is the cumulative sum of the numbers in the list.\n",
    "\n",
    "cumulative_sum([1, 1, 1]) returns [1, 2, 3]\n",
    "\n",
    "cumulative_sum([1, 2, 3, 4]) returns [1, 3, 6, 10]\n",
    "\n",
    "Bonus\n",
    "\n",
    "1. Create a function named twelveto24. It should accept a string in the format 10:45am or 4:30pm and return a string that is the representation of the time in a 24-hour format. Bonus write a function that does the opposite.\n",
    "2. Create a function named col_index. It should accept a spreadsheet column name, and return the index number of the column.\n",
    "\n",
    "col_index('A') returns 1          |\n",
    "col_index('B') returns 2          |\n",
    "col_index('AA') returns 27"
   ]
  },
  {
   "cell_type": "code",
   "execution_count": 5,
   "metadata": {},
   "outputs": [
    {
     "name": "stdout",
     "output_type": "stream",
     "text": [
      "True\n",
      "True\n",
      "False\n",
      "False\n"
     ]
    }
   ],
   "source": [
    "# QUESTION 1\n",
    "# Define a function named is_two. It should accept one input and return True \n",
    "# if the passed input is either the number or the string 2, False otherwise.\n",
    "\n",
    "def is_two(x):\n",
    "    if x == 2 or x == '2':\n",
    "        return True\n",
    "    return False\n",
    "\n",
    "#Testing the function\n",
    "print(is_two(2))\n",
    "print(is_two('2'))\n",
    "print(is_two(1))\n",
    "print(is_two('beans'))"
   ]
  },
  {
   "cell_type": "code",
   "execution_count": 28,
   "metadata": {},
   "outputs": [
    {
     "name": "stdout",
     "output_type": "stream",
     "text": [
      "True\n",
      "False\n",
      "False\n",
      "False\n"
     ]
    }
   ],
   "source": [
    "# QUESTION 2\n",
    "# Define a function named is_vowel. It should return True if the passed string \n",
    "# is a vowel, False otherwise.\n",
    "\n",
    "def is_vowel(string):\n",
    "    if str(string).lower() in ['a', 'e', 'i', 'o', 'u']:\n",
    "        return True\n",
    "    return False\n",
    "\n",
    "#Testing the function\n",
    "print(is_vowel('A'))\n",
    "print(is_vowel(1))\n",
    "print(is_vowel('beans'))\n",
    "print(is_vowel('m'))"
   ]
  },
  {
   "cell_type": "code",
   "execution_count": 39,
   "metadata": {},
   "outputs": [
    {
     "name": "stdout",
     "output_type": "stream",
     "text": [
      "True\n",
      "False\n",
      "False\n",
      "False\n"
     ]
    }
   ],
   "source": [
    "# QUESTION 3\n",
    "# Define a function named is_consonant. It should return True if the passed string\n",
    "# is a consonant, False otherwise. Use your is_vowel function to accomplish this.\n",
    "\n",
    "def is_consonant(string):\n",
    "    if is_vowel(str(string)) or len(str(string)) > 1 or str(string).isdigit():\n",
    "        return False\n",
    "    return True\n",
    "\n",
    "# Testing the function\n",
    "print(is_consonant(\"X\"))\n",
    "print(is_consonant('beans'))\n",
    "print(is_consonant(1))\n",
    "print(is_consonant('e'))"
   ]
  },
  {
   "cell_type": "code",
   "execution_count": 51,
   "metadata": {},
   "outputs": [
    {
     "name": "stdout",
     "output_type": "stream",
     "text": [
      "Queen\n",
      "apple\n",
      "123\n"
     ]
    }
   ],
   "source": [
    "# QUESTION 4\n",
    "# Define a function that accepts a string that is a word. \n",
    "# The function should capitalize the first letter of the word if \n",
    "# the word starts with a consonant.\n",
    "\n",
    "def capitalize_first_letter_if_consonant(word):\n",
    "    if str(word).isdigit():\n",
    "        return (word)\n",
    "    elif is_consonant(word[0]):\n",
    "            return (word[0].upper() + word[1:])\n",
    "    else:\n",
    "        return (word)\n",
    "        \n",
    "# Testing the function\n",
    "print(capitalize_first_letter_if_consonant('queen'))\n",
    "print(capitalize_first_letter_if_consonant('apple'))\n",
    "print(capitalize_first_letter_if_consonant(123))"
   ]
  },
  {
   "cell_type": "code",
   "execution_count": 74,
   "metadata": {},
   "outputs": [
    {
     "name": "stdout",
     "output_type": "stream",
     "text": [
      "0\n",
      "11.73\n",
      "Cannot tip over 100%\n",
      "Cannot tip a negative amount\n"
     ]
    }
   ],
   "source": [
    "# QUESTION 5\n",
    "# Define a function named calculate_tip. It should accept a tip percentage \n",
    "# (a number between 0 and 1) and the bill total, and return the amount to tip.\n",
    "\n",
    "def calculate_tip(bill, tip = 0):\n",
    "    if tip > 1:\n",
    "        return \"Cannot tip over 100%\"\n",
    "    elif tip < 0:\n",
    "        return \"Cannot tip a negative amount\"\n",
    "    else:\n",
    "        tip_amount = round((bill * (1 + tip) - bill), 2)\n",
    "        return tip_amount\n",
    "    \n",
    "# Testing the function\n",
    "print(calculate_tip(50))\n",
    "print(calculate_tip(50, .2345673))\n",
    "print(calculate_tip(50, 1.2))\n",
    "print(calculate_tip(50, -0.2))"
   ]
  },
  {
   "cell_type": "code",
   "execution_count": 80,
   "metadata": {},
   "outputs": [
    {
     "name": "stdout",
     "output_type": "stream",
     "text": [
      "80.0\n",
      "0.0\n",
      "0\n",
      "100\n"
     ]
    }
   ],
   "source": [
    "# QUESTION 6\n",
    "# Define a function named apply_discount. It should accept a original price, \n",
    "# and a discount percentage, and return the price after the discount is applied.\n",
    "\n",
    "def apply_discount(price, discount):\n",
    "    if discount > 100:\n",
    "        return 0\n",
    "    elif discount < 0:\n",
    "        return price\n",
    "    else:\n",
    "        discount_amount = price * discount / 100\n",
    "        return price - discount_amount\n",
    "    \n",
    "# Testing the function\n",
    "print(apply_discount(100, 20))\n",
    "print(apply_discount(100, 100))\n",
    "print(apply_discount(100, 200))\n",
    "print(apply_discount(100, -5))"
   ]
  },
  {
   "cell_type": "code",
   "execution_count": 83,
   "metadata": {},
   "outputs": [
    {
     "name": "stdout",
     "output_type": "stream",
     "text": [
      "1000000\n",
      "10\n"
     ]
    }
   ],
   "source": [
    "# QUESTION 7\n",
    "# Define a function named handle_commas. It should accept a string that is a \n",
    "# number that contains commas in it as input, and return a number as output.\n",
    "\n",
    "def handle_commas(string):\n",
    "    no_commas = ''\n",
    "    for letter in string:\n",
    "        if letter != ',':\n",
    "            no_commas += letter\n",
    "    return no_commas\n",
    "\n",
    "# Testing the function\n",
    "print(handle_commas('1,000,000'))\n",
    "print(handle_commas('1,,,,,0'))"
   ]
  },
  {
   "cell_type": "code",
   "execution_count": 87,
   "metadata": {},
   "outputs": [
    {
     "name": "stdout",
     "output_type": "stream",
     "text": [
      "F\n",
      "F\n",
      "A\n",
      "C\n"
     ]
    }
   ],
   "source": [
    "# QUESTION 8\n",
    "# Define a function named get_letter_grade. It should accept a number \n",
    "# and return the letter grade associated with that number (A-F).\n",
    "\n",
    "def get_letter_grade(num):\n",
    "    if num >= 90:\n",
    "        return 'A'\n",
    "    elif num >= 80:\n",
    "        return 'B'\n",
    "    elif num >= 70:\n",
    "        return 'C'\n",
    "    elif num >= 60:\n",
    "        return 'D'\n",
    "    else:\n",
    "        return 'F'\n",
    "\n",
    "# Testing the function\n",
    "print(get_letter_grade(27))\n",
    "print(get_letter_grade(-30))\n",
    "print(get_letter_grade(130))\n",
    "print(get_letter_grade(77))"
   ]
  },
  {
   "cell_type": "code",
   "execution_count": 90,
   "metadata": {},
   "outputs": [
    {
     "name": "stdout",
     "output_type": "stream",
     "text": [
      "Cnctntn\n",
      "Thr wr 300 slrs n tht shp.\n"
     ]
    }
   ],
   "source": [
    "# QUESTION 9\n",
    "# Define a function named remove_vowels that accepts a string and returns \n",
    "# a string with all the vowels removed.\n",
    "\n",
    "def remove_vowels(string):\n",
    "    no_vowels = ''\n",
    "    for letter in string:\n",
    "        if not is_vowel(letter) or letter.isdigit():\n",
    "            no_vowels += letter\n",
    "    return no_vowels\n",
    "\n",
    "# Testing the function\n",
    "print(remove_vowels(\"Concatenation\"))\n",
    "print(remove_vowels(\"There were 300 sailors on that ship.\"))"
   ]
  },
  {
   "cell_type": "code",
   "execution_count": 100,
   "metadata": {},
   "outputs": [
    {
     "name": "stdout",
     "output_type": "stream",
     "text": [
      "_3_aples__in_a_pod324\n"
     ]
    }
   ],
   "source": [
    "# QUESTION 10\n",
    "# Define a function named normalize_name. It should accept a string and return \n",
    "# a valid python identifier, that is:\n",
    "# - anything that is not a valid python identifier should be removed\n",
    "# - leading and trailing whitespace should be removed\n",
    "# - everything should be lowercase\n",
    "# - spaces should be replaced with underscores\n",
    "# - for example:\n",
    "# - - Name will become name\n",
    "# - - First Name will become first_name\n",
    "# - - % Completed will become completed\n",
    "\n",
    "def normalize_name(string):\n",
    "    normalized_string = ''\n",
    "    stripped_string = string.strip()\n",
    "    if stripped_string[0].isdigit():\n",
    "        stripped_string = '_' + stripped_string\n",
    "    for letter in stripped_string:\n",
    "        if (letter.isalpha() or letter == '_') and not letter == ' ':\n",
    "            normalized_string += letter.lower()\n",
    "        elif letter.isdigit():\n",
    "            normalized_string += letter\n",
    "        elif letter == ' ':\n",
    "            normalized_string += '_'\n",
    "    return normalized_string\n",
    "\n",
    "# Testing the function\n",
    "print(normalize_name(\" 3 A#ples . in a pod324\"))\n",
    "            \n",
    "        "
   ]
  },
  {
   "cell_type": "code",
   "execution_count": 94,
   "metadata": {
    "scrolled": true
   },
   "outputs": [
    {
     "name": "stdout",
     "output_type": "stream",
     "text": [
      "   apples  \n",
      "apples\n",
      "apples\n"
     ]
    }
   ],
   "source": [
    "apples_whitespace = '   apples  '\n",
    "apples_no_whitespace = apples_whitespace.strip()\n",
    "print(apples_whitespace)\n",
    "print(apples_no_whitespace)"
   ]
  },
  {
   "cell_type": "code",
   "execution_count": null,
   "metadata": {},
   "outputs": [],
   "source": []
  }
 ],
 "metadata": {
  "kernelspec": {
   "display_name": "Python 3",
   "language": "python",
   "name": "python3"
  },
  "language_info": {
   "codemirror_mode": {
    "name": "ipython",
    "version": 3
   },
   "file_extension": ".py",
   "mimetype": "text/x-python",
   "name": "python",
   "nbconvert_exporter": "python",
   "pygments_lexer": "ipython3",
   "version": "3.7.6"
  }
 },
 "nbformat": 4,
 "nbformat_minor": 4
}
