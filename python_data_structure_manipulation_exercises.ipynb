{
 "cells": [
  {
   "cell_type": "markdown",
   "metadata": {},
   "source": [
    "The following questions reference the students data structure below. Write the python code to answer the following questions:\n",
    "\n",
    "How many students are there? How many students prefer light coffee? For each type of coffee roast?\n",
    "How many types of each pet are there?\n",
    "How many grades does each student have? Do they all have the same number of grades?\n",
    "What is each student's grade average?\n",
    "How many pets does each student have?\n",
    "How many students are in web development? data science?\n",
    "What is the average number of pets for students in web development?\n",
    "What is the average pet age for students in data science?\n",
    "What is most frequent coffee preference for data science students?\n",
    "What is the least frequent coffee preference for web development students?\n",
    "What is the average grade for students with at least 2 pets?\n",
    "How many students have 3 pets?\n",
    "What is the average grade for students with 0 pets?\n",
    "What is the average grade for web development students? data science students?\n",
    "What is the average grade range (i.e. highest grade - lowest grade) for dark coffee drinkers?\n",
    "What is the average number of pets for medium coffee drinkers?\n",
    "What is the most common type of pet for web development students?\n",
    "What is the average name length?\n",
    "What is the highest pet age for light coffee drinkers?"
   ]
  },
  {
   "cell_type": "code",
   "execution_count": 2,
   "metadata": {},
   "outputs": [],
   "source": [
    "students = [\n",
    "    {\n",
    "        \"id\": \"100001\",\n",
    "        \"student\": \"Ada Lovelace\",\n",
    "        \"coffee_preference\": \"light\",\n",
    "        \"course\": \"web development\",\n",
    "        \"grades\": [70, 91, 82, 71],\n",
    "        \"pets\": [{\"species\": \"horse\", \"age\": 8}],\n",
    "    },\n",
    "    {\n",
    "        \"id\": \"100002\",\n",
    "        \"student\": \"Thomas Bayes\",\n",
    "        \"coffee_preference\": \"medium\",\n",
    "        \"course\": \"data science\",\n",
    "        \"grades\": [75, 73, 86, 100],\n",
    "        \"pets\": [],\n",
    "    },\n",
    "    {\n",
    "        \"id\": \"100003\",\n",
    "        \"student\": \"Marie Curie\",\n",
    "        \"coffee_preference\": \"light\",\n",
    "        \"course\": \"web development\",\n",
    "        \"grades\": [70, 89, 69, 65],\n",
    "        \"pets\": [{\"species\": \"cat\", \"age\": 0}],\n",
    "    },\n",
    "    {\n",
    "        \"id\": \"100004\",\n",
    "        \"student\": \"Grace Hopper\",\n",
    "        \"coffee_preference\": \"dark\",\n",
    "        \"course\": \"data science\",\n",
    "        \"grades\": [73, 66, 83, 92],\n",
    "        \"pets\": [{\"species\": \"dog\", \"age\": 4}, {\"species\": \"cat\", \"age\": 4}],\n",
    "    },\n",
    "    {\n",
    "        \"id\": \"100005\",\n",
    "        \"student\": \"Alan Turing\",\n",
    "        \"coffee_preference\": \"dark\",\n",
    "        \"course\": \"web development\",\n",
    "        \"grades\": [78, 98, 85, 65],\n",
    "        \"pets\": [\n",
    "            {\"species\": \"horse\", \"age\": 6},\n",
    "            {\"species\": \"horse\", \"age\": 7},\n",
    "            {\"species\": \"dog\", \"age\": 5},\n",
    "        ],\n",
    "    },\n",
    "    {\n",
    "        \"id\": \"100006\",\n",
    "        \"student\": \"Rosalind Franklin\",\n",
    "        \"coffee_preference\": \"dark\",\n",
    "        \"course\": \"data science\",\n",
    "        \"grades\": [76, 70, 96, 81],\n",
    "        \"pets\": [],\n",
    "    },\n",
    "    {\n",
    "        \"id\": \"100007\",\n",
    "        \"student\": \"Elizabeth Blackwell\",\n",
    "        \"coffee_preference\": \"dark\",\n",
    "        \"course\": \"web development\",\n",
    "        \"grades\": [69, 94, 89, 86],\n",
    "        \"pets\": [{\"species\": \"cat\", \"age\": 10}],\n",
    "    },\n",
    "    {\n",
    "        \"id\": \"100008\",\n",
    "        \"student\": \"Rene Descartes\",\n",
    "        \"coffee_preference\": \"medium\",\n",
    "        \"course\": \"data science\",\n",
    "        \"grades\": [87, 79, 90, 99],\n",
    "        \"pets\": [{\"species\": \"cat\", \"age\": 10}, {\"species\": \"cat\", \"age\": 8}],\n",
    "    },\n",
    "    {\n",
    "        \"id\": \"100009\",\n",
    "        \"student\": \"Ahmed Zewail\",\n",
    "        \"coffee_preference\": \"medium\",\n",
    "        \"course\": \"data science\",\n",
    "        \"grades\": [74, 99, 93, 89],\n",
    "        \"pets\": [{\"species\": \"cat\", \"age\": 0}, {\"species\": \"cat\", \"age\": 0}],\n",
    "    },\n",
    "    {\n",
    "        \"id\": \"100010\",\n",
    "        \"student\": \"Chien-Shiung Wu\",\n",
    "        \"coffee_preference\": \"medium\",\n",
    "        \"course\": \"web development\",\n",
    "        \"grades\": [82, 92, 91, 65],\n",
    "        \"pets\": [{\"species\": \"cat\", \"age\": 8}],\n",
    "    },\n",
    "    {\n",
    "        \"id\": \"100011\",\n",
    "        \"student\": \"William Sanford Nye\",\n",
    "        \"coffee_preference\": \"dark\",\n",
    "        \"course\": \"data science\",\n",
    "        \"grades\": [70, 92, 65, 99],\n",
    "        \"pets\": [{\"species\": \"cat\", \"age\": 8}, {\"species\": \"cat\", \"age\": 5}],\n",
    "    },\n",
    "    {\n",
    "        \"id\": \"100012\",\n",
    "        \"student\": \"Carl Sagan\",\n",
    "        \"coffee_preference\": \"medium\",\n",
    "        \"course\": \"data science\",\n",
    "        \"grades\": [100, 86, 91, 87],\n",
    "        \"pets\": [{\"species\": \"cat\", \"age\": 10}],\n",
    "    },\n",
    "    {\n",
    "        \"id\": \"100013\",\n",
    "        \"student\": \"Jane Goodall\",\n",
    "        \"coffee_preference\": \"light\",\n",
    "        \"course\": \"web development\",\n",
    "        \"grades\": [80, 70, 68, 98],\n",
    "        \"pets\": [{\"species\": \"horse\", \"age\": 4}],\n",
    "    },\n",
    "    {\n",
    "        \"id\": \"100014\",\n",
    "        \"student\": \"Richard Feynman\",\n",
    "        \"coffee_preference\": \"medium\",\n",
    "        \"course\": \"web development\",\n",
    "        \"grades\": [73, 99, 86, 98],\n",
    "        \"pets\": [{\"species\": \"dog\", \"age\": 6}],\n",
    "    },\n",
    "]"
   ]
  },
  {
   "cell_type": "markdown",
   "metadata": {},
   "source": [
    "#### How many students are there?"
   ]
  },
  {
   "cell_type": "code",
   "execution_count": 23,
   "metadata": {},
   "outputs": [
    {
     "name": "stdout",
     "output_type": "stream",
     "text": [
      "There are 14 students in the data set.\n"
     ]
    }
   ],
   "source": [
    "print(f'There are {len(students)} students in the data set.')"
   ]
  },
  {
   "cell_type": "markdown",
   "metadata": {},
   "source": [
    "#### How many students prefer light coffee? For each type of coffee roast?"
   ]
  },
  {
   "cell_type": "code",
   "execution_count": 4,
   "metadata": {},
   "outputs": [
    {
     "name": "stdout",
     "output_type": "stream",
     "text": [
      "How many students prefer light coffee? 3\n",
      "How many students prefer medium coffee? 6\n",
      "How many students prefer dark coffee? 5\n"
     ]
    }
   ],
   "source": [
    "def coffee_pref(coffee_pref):    \n",
    "    num_coffee = 0\n",
    "    for student in students:\n",
    "        if student['coffee_preference'] == coffee_pref:\n",
    "            num_coffee += 1\n",
    "    print(f\"How many students prefer {coffee_pref} coffee? {num_coffee}\")\n",
    "\n",
    "coffee_pref('light')\n",
    "coffee_pref('medium')\n",
    "coffee_pref('dark')"
   ]
  },
  {
   "cell_type": "markdown",
   "metadata": {},
   "source": [
    "#### How many types of each pet are there?"
   ]
  },
  {
   "cell_type": "code",
   "execution_count": 21,
   "metadata": {},
   "outputs": [
    {
     "name": "stdout",
     "output_type": "stream",
     "text": [
      "<class 'list'>\n"
     ]
    }
   ],
   "source": [
    "# STEP ONE: EVALUATING THE DATASET AND ACCESSING THE 'SPECIES' KEY, VALUE PAIR\n",
    "\n",
    "print(type(students))\n",
    "\n",
    "# Looking at the type() of the 'students' dataset, we see that this is a single \n",
    "# object <class 'list'>\n",
    "\n",
    "# The problem with this list, is that we cannot access list items the way that we \n",
    "# access values in a dictionary\n",
    "\n",
    "# If we were to try students['pets'], we would recieve a \n",
    "# TypeError (list indices must be int or slices, not str)"
   ]
  },
  {
   "cell_type": "code",
   "execution_count": 24,
   "metadata": {},
   "outputs": [
    {
     "name": "stdout",
     "output_type": "stream",
     "text": [
      "{'id': '100002', 'student': 'Thomas Bayes', 'coffee_preference': 'medium', 'course': 'data science', 'grades': [75, 73, 86, 100], 'pets': []}\n"
     ]
    }
   ],
   "source": [
    "# If we instead use an integer index, we can capture the information \n",
    "# from a single element of the list\n",
    "\n",
    "print(students[1])\n",
    "\n",
    "# We see all the information surrounding a single student \n",
    "# (id, student, coffee_preference, course, grades, pets)"
   ]
  },
  {
   "cell_type": "code",
   "execution_count": 13,
   "metadata": {},
   "outputs": [
    {
     "name": "stdout",
     "output_type": "stream",
     "text": [
      "{'id': '100001', 'student': 'Ada Lovelace', 'coffee_preference': 'light', 'course': 'web development', 'grades': [70, 91, 82, 71], 'pets': [{'species': 'horse', 'age': 8}]}\n",
      "{'id': '100002', 'student': 'Thomas Bayes', 'coffee_preference': 'medium', 'course': 'data science', 'grades': [75, 73, 86, 100], 'pets': []}\n",
      "{'id': '100003', 'student': 'Marie Curie', 'coffee_preference': 'light', 'course': 'web development', 'grades': [70, 89, 69, 65], 'pets': [{'species': 'cat', 'age': 0}]}\n",
      "{'id': '100004', 'student': 'Grace Hopper', 'coffee_preference': 'dark', 'course': 'data science', 'grades': [73, 66, 83, 92], 'pets': [{'species': 'dog', 'age': 4}, {'species': 'cat', 'age': 4}]}\n",
      "{'id': '100005', 'student': 'Alan Turing', 'coffee_preference': 'dark', 'course': 'web development', 'grades': [78, 98, 85, 65], 'pets': [{'species': 'horse', 'age': 6}, {'species': 'horse', 'age': 7}, {'species': 'dog', 'age': 5}]}\n",
      "{'id': '100006', 'student': 'Rosalind Franklin', 'coffee_preference': 'dark', 'course': 'data science', 'grades': [76, 70, 96, 81], 'pets': []}\n",
      "{'id': '100007', 'student': 'Elizabeth Blackwell', 'coffee_preference': 'dark', 'course': 'web development', 'grades': [69, 94, 89, 86], 'pets': [{'species': 'cat', 'age': 10}]}\n",
      "{'id': '100008', 'student': 'Rene Descartes', 'coffee_preference': 'medium', 'course': 'data science', 'grades': [87, 79, 90, 99], 'pets': [{'species': 'cat', 'age': 10}, {'species': 'cat', 'age': 8}]}\n",
      "{'id': '100009', 'student': 'Ahmed Zewail', 'coffee_preference': 'medium', 'course': 'data science', 'grades': [74, 99, 93, 89], 'pets': [{'species': 'cat', 'age': 0}, {'species': 'cat', 'age': 0}]}\n",
      "{'id': '100010', 'student': 'Chien-Shiung Wu', 'coffee_preference': 'medium', 'course': 'web development', 'grades': [82, 92, 91, 65], 'pets': [{'species': 'cat', 'age': 8}]}\n",
      "{'id': '100011', 'student': 'William Sanford Nye', 'coffee_preference': 'dark', 'course': 'data science', 'grades': [70, 92, 65, 99], 'pets': [{'species': 'cat', 'age': 8}, {'species': 'cat', 'age': 5}]}\n",
      "{'id': '100012', 'student': 'Carl Sagan', 'coffee_preference': 'medium', 'course': 'data science', 'grades': [100, 86, 91, 87], 'pets': [{'species': 'cat', 'age': 10}]}\n",
      "{'id': '100013', 'student': 'Jane Goodall', 'coffee_preference': 'light', 'course': 'web development', 'grades': [80, 70, 68, 98], 'pets': [{'species': 'horse', 'age': 4}]}\n",
      "{'id': '100014', 'student': 'Richard Feynman', 'coffee_preference': 'medium', 'course': 'web development', 'grades': [73, 99, 86, 98], 'pets': [{'species': 'dog', 'age': 6}]}\n"
     ]
    }
   ],
   "source": [
    "# Looking at a single index helps us understand what is contained in each list element\n",
    "# In order to obtain all of the list elements, we can use a for loop\n",
    "\n",
    "for student in students:\n",
    "    print(student)\n",
    "\n",
    "# Now we can access each of the indices in our list and display them"
   ]
  },
  {
   "cell_type": "code",
   "execution_count": 27,
   "metadata": {},
   "outputs": [
    {
     "name": "stdout",
     "output_type": "stream",
     "text": [
      "<class 'dict'>\n",
      "dict_keys(['id', 'student', 'coffee_preference', 'course', 'grades', 'pets'])\n"
     ]
    }
   ],
   "source": [
    "# If we look at the type of each list element, we can see that each element is a dictionary\n",
    "\n",
    "print(type(student))\n",
    "\n",
    "# Which keys do we have in each dictionary?\n",
    "\n",
    "print(students[0].keys())\n",
    "\n",
    "# We see from the dict_keys view object that we have:\n",
    "# id, student, coffee_preference, course, grades, pets\n",
    "# This computationally matches our visual scan of the elements earlier"
   ]
  },
  {
   "cell_type": "code",
   "execution_count": 28,
   "metadata": {},
   "outputs": [
    {
     "name": "stdout",
     "output_type": "stream",
     "text": [
      "[{'species': 'dog', 'age': 6}]\n"
     ]
    }
   ],
   "source": [
    "# Let's access the 'pets' key and see what values it contains\n",
    "# A simple way to do this is to create a variable that stores the value called from \n",
    "# the list element using its key ('pets')\n",
    "\n",
    "pets_access = student['pets']\n",
    "\n",
    "# Lets print what is in this variable\n",
    "\n",
    "print(pets_access)\n",
    "\n",
    "# Notice that while it does print the value, it only prints the very last value in the list\n",
    "# Python looks at all the info, and only returns the last matching key"
   ]
  },
  {
   "cell_type": "code",
   "execution_count": 29,
   "metadata": {},
   "outputs": [
    {
     "name": "stdout",
     "output_type": "stream",
     "text": [
      "<class 'list'>\n"
     ]
    }
   ],
   "source": [
    "# If we look at the type for the value that we pulled, we see that it is a list\n",
    "\n",
    "print(type(pets_access))"
   ]
  },
  {
   "cell_type": "code",
   "execution_count": 101,
   "metadata": {},
   "outputs": [
    {
     "name": "stdout",
     "output_type": "stream",
     "text": [
      "{'species': 'dog', 'age': 6}\n"
     ]
    }
   ],
   "source": [
    "# Lets add another for loop to access all the information from 'pets_access',\n",
    "# This will prepare us for a future step. Visual scan of the pets keys show the values\n",
    "# across all elements in students to be lists, some of which contain no data and some \n",
    "# which contain multiple elements (because the student had multiple pets)\n",
    "# In this case, there is only going to be one pet in pets_access, but had there been multiple pets,\n",
    "# it would print all of them\n",
    "\n",
    "for pet in pets_access:\n",
    "    print(pet)"
   ]
  },
  {
   "cell_type": "code",
   "execution_count": 32,
   "metadata": {},
   "outputs": [],
   "source": [
    "# Now that we have honed it down to a single value, lets get the species data\n",
    "\n",
    "species_name = pet['species']"
   ]
  },
  {
   "cell_type": "code",
   "execution_count": 33,
   "metadata": {},
   "outputs": [
    {
     "name": "stdout",
     "output_type": "stream",
     "text": [
      "dog\n"
     ]
    }
   ],
   "source": [
    "# Lets look at what is sitting in species_name now:\n",
    "\n",
    "print(species_name)"
   ]
  },
  {
   "cell_type": "code",
   "execution_count": 105,
   "metadata": {},
   "outputs": [
    {
     "name": "stdout",
     "output_type": "stream",
     "text": [
      "horse\n",
      "cat\n",
      "dog\n",
      "cat\n",
      "horse\n",
      "horse\n",
      "dog\n",
      "cat\n",
      "cat\n",
      "cat\n",
      "cat\n",
      "cat\n",
      "cat\n",
      "cat\n",
      "cat\n",
      "cat\n",
      "horse\n",
      "dog\n"
     ]
    }
   ],
   "source": [
    "# STEP TWO: CAPTURING THE SPECIES DATA\n",
    "\n",
    "# Now that we have successfully shown the relative path that needs to be taken to\n",
    "# access a single piece of species data, we need to develop an function that can\n",
    "# capture all of the species data across all elements in the list\n",
    "# This function will not be built from scratch. We will build it using the steps we \n",
    "# have previously taken\n",
    "def print_pet_species():\n",
    "    for student in students: #This is going to look at all the dict type objects in the students list\n",
    "        pets_access = student['pets'] #Within an iteration, the pets_access variable is going to store the values for the pets key\n",
    "        for pet in pets_access: #The value for 'pets' (stored in pets_access) is a list, so we cycle through that list \n",
    "            species_name = pet['species'] # And with each cycle, we capture the species name data\n",
    "            print(species_name) # For now, we will add a print to visualize the captured data\n",
    "                                # Note: because this function has no parameters, we could also have just run the code in the function by itself\n",
    "print_pet_species() #call the function to test it\n",
    "\n",
    "# Now we can see that we have obtained a list of all of the pet species in all of the nested data\n"
   ]
  },
  {
   "cell_type": "code",
   "execution_count": 38,
   "metadata": {},
   "outputs": [],
   "source": [
    "# Now we want to create an empty list that all of this species data can go into\n",
    "species_data = []\n",
    "\n",
    "# We edit the previous function to append data to our empty list\n",
    "def get_pet_species():\n",
    "    for student in students: #This is going to look at all the dict type objects in the students list\n",
    "        pets_access = student['pets'] # Within an iteration, the pets_access variable is going to store the values for the pets key\n",
    "        for pet in pets_access: # The value for 'pets' (stored in pets_access) is a list, so we cycle through that list \n",
    "            species_name = pet['species'] # And with each cycle, we capture the species name data\n",
    "            species_data.append(species_name) # Instead of printing, we are going to append the captured data to our empty list\n",
    "            \n",
    "get_pet_species() # call the function to capture the data and put it in species_data\n",
    "                  # Note: because this function has no parameters, we could also have just run the code in the function by itself"
   ]
  },
  {
   "cell_type": "code",
   "execution_count": 39,
   "metadata": {},
   "outputs": [
    {
     "name": "stdout",
     "output_type": "stream",
     "text": [
      "['horse', 'cat', 'dog', 'cat', 'horse', 'horse', 'dog', 'cat', 'cat', 'cat', 'cat', 'cat', 'cat', 'cat', 'cat', 'cat', 'horse', 'dog']\n"
     ]
    }
   ],
   "source": [
    "# Lets look at the data held in our list\n",
    "\n",
    "print(species_data)\n",
    "\n",
    "# We see that it contains every species recorded in the students list"
   ]
  },
  {
   "cell_type": "code",
   "execution_count": 40,
   "metadata": {},
   "outputs": [],
   "source": [
    "# We want to clean up this list, so that it only shows unique names\n",
    "# For this we can create another empty list, iterate through our species_data, and \n",
    "# append the species to our empty list only if it hasn't already been appended\n",
    "\n",
    "unique_species_data = []\n",
    "for species_name in species_data:\n",
    "    if species_name not in unique_species_data:\n",
    "        unique_species_data.append(species_name)"
   ]
  },
  {
   "cell_type": "code",
   "execution_count": 44,
   "metadata": {},
   "outputs": [
    {
     "name": "stdout",
     "output_type": "stream",
     "text": [
      "There are 3 different species in the students list.\n",
      "Those species are:\n",
      "horse\n",
      "cat\n",
      "dog\n"
     ]
    }
   ],
   "source": [
    "# Now lets see how many different types of species there are in the students list\n",
    "print(f\"There are {len(unique_species_data)} different species in the students list.\")\n",
    "print(\"Those species are:\")\n",
    "for unique_species_name in unique_species_data:\n",
    "    print(unique_species_name)"
   ]
  },
  {
   "cell_type": "markdown",
   "metadata": {},
   "source": [
    "#### How many grades does each student have?"
   ]
  },
  {
   "cell_type": "code",
   "execution_count": 45,
   "metadata": {},
   "outputs": [
    {
     "name": "stdout",
     "output_type": "stream",
     "text": [
      "{'id': '100001', 'student': 'Ada Lovelace', 'coffee_preference': 'light', 'course': 'web development', 'grades': [70, 91, 82, 71], 'pets': [{'species': 'horse', 'age': 8}]}\n"
     ]
    }
   ],
   "source": [
    "# Plan of action: Repeat most steps from previous question, but at the end, \n",
    "# instead of appending the grade values into a list, use a counter to count the number\n",
    "# of grades for each student and then append that into a list\n",
    "# if time, create a dictionary of students to grade by zipping their names and their\n",
    "# grade counts together\n",
    "\n",
    "# Its been a while since I last touched this notebook, so lets take a look at a individual student in this dictionary\n",
    "print(students[0])"
   ]
  },
  {
   "cell_type": "code",
   "execution_count": 83,
   "metadata": {},
   "outputs": [
    {
     "name": "stdout",
     "output_type": "stream",
     "text": [
      "{'Ada Lovelace': 4, 'Thomas Bayes': 4, 'Marie Curie': 4, 'Grace Hopper': 4, 'Alan Turing': 4, 'Rosalind Franklin': 4, 'Elizabeth Blackwell': 4, 'Rene Descartes': 4, 'Ahmed Zewail': 4, 'Chien-Shiung Wu': 4, 'William Sanford Nye': 4, 'Carl Sagan': 4, 'Jane Goodall': 4, 'Richard Feynman': 4}\n"
     ]
    }
   ],
   "source": [
    "# We can see that there is a key for grades, and it has a list of numeric grades in it. \n",
    "# Lets not assume that each student has the same number of grades. \n",
    "# We can create a dictionary that maps the number of grades that each student has to their name\n",
    "\n",
    "name_gradecount_dict = {}\n",
    "names_list = [student['student'] for student in students]\n",
    "grade_count = []\n",
    "for student in students:\n",
    "    grade_count.append(len(student['grades']))\n",
    "name_gradecount_dict = {student: grade for (student ,grade) in zip(names_list, grade_count)}\n",
    "print(name_gradecount_dict)"
   ]
  },
  {
   "cell_type": "markdown",
   "metadata": {},
   "source": [
    "#### Do they all have the same number of grades? "
   ]
  },
  {
   "cell_type": "code",
   "execution_count": 84,
   "metadata": {},
   "outputs": [
    {
     "name": "stdout",
     "output_type": "stream",
     "text": [
      "{4}\n"
     ]
    }
   ],
   "source": [
    "# We can see that each student has 4 grades from the dictionary above, \n",
    "# but to confirm we can create a set from the grade_count list\n",
    "unique_number_of_grades_in_dataset = set(grade_count)\n",
    "print(unique_number_of_grades_in_dataset)"
   ]
  },
  {
   "cell_type": "markdown",
   "metadata": {},
   "source": [
    "#### What is each student's grade average?"
   ]
  },
  {
   "cell_type": "code",
   "execution_count": 78,
   "metadata": {},
   "outputs": [
    {
     "name": "stdout",
     "output_type": "stream",
     "text": [
      "[314, 334, 293, 314, 326, 323, 338, 355, 355, 330, 326, 364, 316, 356]\n",
      "[78.5, 83.5, 73.25, 78.5, 81.5, 80.75, 84.5, 88.75, 88.75, 82.5, 81.5, 91.0, 79.0, 89.0]\n"
     ]
    }
   ],
   "source": [
    "# We have a list of names that we can zip to an average of the grades for each student\n",
    "# We can use the average() function to create an average for each student from their grades\n",
    "\n",
    "student_grades_all = [sum(student['grades']) for student in students]\n",
    "\n",
    "student_averages_all = [sum(student['grades']) / 4 for student in students]"
   ]
  },
  {
   "cell_type": "code",
   "execution_count": 82,
   "metadata": {},
   "outputs": [
    {
     "name": "stdout",
     "output_type": "stream",
     "text": [
      "{'Ada Lovelace': 78.5, 'Thomas Bayes': 83.5, 'Marie Curie': 73.25, 'Grace Hopper': 78.5, 'Alan Turing': 81.5, 'Rosalind Franklin': 80.75, 'Elizabeth Blackwell': 84.5, 'Rene Descartes': 88.75, 'Ahmed Zewail': 88.75, 'Chien-Shiung Wu': 82.5, 'William Sanford Nye': 81.5, 'Carl Sagan': 91.0, 'Jane Goodall': 79.0, 'Richard Feynman': 89.0}\n"
     ]
    }
   ],
   "source": [
    "# Now we can map those grades to their corresponding students\n",
    "student_average_dict = dict(zip(names_list, student_averages_all))\n",
    "print(student_average_dict)"
   ]
  },
  {
   "cell_type": "markdown",
   "metadata": {},
   "source": [
    "#### How many pets does each student have?"
   ]
  },
  {
   "cell_type": "code",
   "execution_count": 86,
   "metadata": {},
   "outputs": [
    {
     "name": "stdout",
     "output_type": "stream",
     "text": [
      "[1, 0, 1, 2, 3, 0, 1, 2, 2, 1, 2, 1, 1, 1]\n"
     ]
    }
   ],
   "source": [
    "# The pets value is equal to a list of dictionaries, where each dictionary represents a single pet\n",
    "# We can then just the len() function to count the number of pets\n",
    "\n",
    "number_pets_each_student = [len(student['pets']) for student in students]\n",
    "print(number_pets_each_student)"
   ]
  },
  {
   "cell_type": "code",
   "execution_count": 88,
   "metadata": {},
   "outputs": [
    {
     "name": "stdout",
     "output_type": "stream",
     "text": [
      "{'Ada Lovelace': 1, 'Thomas Bayes': 0, 'Marie Curie': 1, 'Grace Hopper': 2, 'Alan Turing': 3, 'Rosalind Franklin': 0, 'Elizabeth Blackwell': 1, 'Rene Descartes': 2, 'Ahmed Zewail': 2, 'Chien-Shiung Wu': 1, 'William Sanford Nye': 2, 'Carl Sagan': 1, 'Jane Goodall': 1, 'Richard Feynman': 1}\n"
     ]
    }
   ],
   "source": [
    "# For clarity, we can then match the list of number_pets_each_student to student names in a dictionary\n",
    "\n",
    "names_pet_count_dict = dict(zip(names_list, number_pets_each_student))\n",
    "print(names_pet_count_dict)"
   ]
  },
  {
   "cell_type": "markdown",
   "metadata": {},
   "source": [
    "#### How many students are in web development?"
   ]
  },
  {
   "cell_type": "code",
   "execution_count": 90,
   "metadata": {},
   "outputs": [
    {
     "name": "stdout",
     "output_type": "stream",
     "text": [
      "There are 7 students in web development.\n"
     ]
    }
   ],
   "source": [
    "# We can filter for students where their 'course' is mapped to 'web development'\n",
    "# Put those students in a list\n",
    "# And then count the length of that list\n",
    "\n",
    "print(f\"There are {len([student for student in students if student['course'] == 'web development'])} students in web development.\")"
   ]
  },
  {
   "cell_type": "markdown",
   "metadata": {},
   "source": [
    "#### How many students are in data science?"
   ]
  },
  {
   "cell_type": "code",
   "execution_count": 91,
   "metadata": {},
   "outputs": [
    {
     "name": "stdout",
     "output_type": "stream",
     "text": [
      "There are 7 students in data science.\n"
     ]
    }
   ],
   "source": [
    "# We can repeat the code above, but filter for 'data science'\n",
    "print(f\"There are {len([student for student in students if student['course'] == 'data science'])} students in data science.\")\n",
    "\n",
    "# Alternatively, we could have confirmed that the only options for course is either 'data science' or 'web development'\n",
    "# If this were true, we could simply subtract the number of students in web development from the total number of students"
   ]
  },
  {
   "cell_type": "markdown",
   "metadata": {},
   "source": [
    "#### What is the average number of pets for students in web development? "
   ]
  },
  {
   "cell_type": "code",
   "execution_count": 100,
   "metadata": {},
   "outputs": [
    {
     "name": "stdout",
     "output_type": "stream",
     "text": [
      "[1, 1, 3, 1, 1, 1, 1]\n",
      "The average number of pets for students in web development is 1.2857142857142858\n"
     ]
    }
   ],
   "source": [
    "# We can filter only students who are in web development, and then count the length of their pets value\n",
    "# and put those values in a list\n",
    "\n",
    "\n",
    "pet_count_for_web_dev_students = [len(student['pets']) for student in students if student['course'] == 'web development']\n",
    "print(pet_count_for_web_dev_students)\n",
    "# Then we can divide the sum of those values by the number of students in web development.\n",
    "# We know that this number is 7, but lets try and avoid hard coding it\n",
    "# We can copy paste the code from the previous question about number of students in web dev\n",
    "average_num_pets_web_dev = sum(pet_count_for_web_dev_students) / (len([student for student in students if student['course'] == 'web development']))\n",
    "\n",
    "print(f\"The average number of pets for students in web development is {average_num_pets_web_dev}\")"
   ]
  },
  {
   "cell_type": "markdown",
   "metadata": {},
   "source": [
    "#### What is the average pet age for students in data science?"
   ]
  },
  {
   "cell_type": "code",
   "execution_count": 109,
   "metadata": {},
   "outputs": [
    {
     "name": "stdout",
     "output_type": "stream",
     "text": [
      "[4, 4, 10, 8, 0, 0, 8, 5, 10]\n"
     ]
    }
   ],
   "source": [
    "# We've previously developed a function to dig down to the deepest levels of the pet data (Q3)\n",
    "# We can use the structure of that function to gather up our pet ages and add a conditional to limit it\n",
    "# only to the students in data science\n",
    "pet_ages_ds = []\n",
    "def get_pet_ages_data_science():\n",
    "    for student in students: #This is going to look at all the dict type objects in the students list\n",
    "        if student['course'] == 'data science': #We create a conditional statement to test if the student is in data science\n",
    "            pets_access = student['pets'] # Within an iteration, the pets_access variable is going to store the values for the pets key\n",
    "            for pet in pets_access: # The value for 'pets' (stored in pets_access) is a list, so we cycle through that list \n",
    "                pet_age = pet['age'] # And with each cycle, we capture the age data\n",
    "                pet_ages_ds.append(pet_age)\n",
    "                #pet_ages_ds.append(pet_age) # Instead of printing, we are going to append the captured data to our empty list\n",
    "        else:\n",
    "            continue #if the student is not in data science, we continue to the next iteration without doing anything\n",
    "\n",
    "get_pet_ages_data_science()\n",
    "print(pet_ages_ds) #Who has a pet with zero age? This must be rounding down any pets that are less than half a year old"
   ]
  },
  {
   "cell_type": "code",
   "execution_count": 110,
   "metadata": {},
   "outputs": [
    {
     "name": "stdout",
     "output_type": "stream",
     "text": [
      "The average pet age for students in data science is 5.444444444444445.\n"
     ]
    }
   ],
   "source": [
    "# Now that we have a list of each pet owned by a data science student, \n",
    "# we can take the sum and divide it by the number of pets (the length of the list)\n",
    "avg_pet_age_ds = sum(pet_ages_ds) / len(pet_ages_ds)\n",
    "print(f\"The average pet age for students in data science is {avg_pet_age_ds}.\")"
   ]
  },
  {
   "cell_type": "markdown",
   "metadata": {},
   "source": [
    "#### What is most frequent coffee preference for data science students?"
   ]
  },
  {
   "cell_type": "code",
   "execution_count": 119,
   "metadata": {},
   "outputs": [
    {
     "name": "stdout",
     "output_type": "stream",
     "text": [
      "['medium', 'dark', 'dark', 'medium', 'medium', 'dark', 'medium']\n"
     ]
    }
   ],
   "source": [
    "# we can create a list of every students coffee preference\n",
    "coffee_pref_list = [student['coffee_preference'] for student in students]\n",
    "\n",
    "# oops! We forgot to limit our list to data science students. Lets try again\n",
    "ds_coffee_pref_list = [student['coffee_preference'] for student in students if student['course'] == 'data science']\n",
    "print(ds_coffee_pref_list)"
   ]
  },
  {
   "cell_type": "code",
   "execution_count": 116,
   "metadata": {},
   "outputs": [],
   "source": [
    "# Now that we have our list, we can count each type of coffee preference\n",
    "# Lets try using a library for this specific task\n",
    "from collections import Counter"
   ]
  },
  {
   "cell_type": "code",
   "execution_count": 122,
   "metadata": {},
   "outputs": [
    {
     "name": "stdout",
     "output_type": "stream",
     "text": [
      "The most frequent coffee type for data science students is medium.\n",
      "There were 4 students who were assigned that value.\n"
     ]
    }
   ],
   "source": [
    "# This Counter() function will sort and count the frequency of objects in the argument given. \n",
    "# We can limit the output to n most common by using .most_common() and it will create a list of tuples\n",
    "# with the tuples order from highest frequency to lowest frequency\n",
    "ds_coffee_pref_count = Counter(ds_coffee_pref_list).most_common(1)\n",
    "\n",
    "print(f\"The most frequent coffee type for data science students is {ds_coffee_pref_count[0][0]}.\")\n",
    "print(f\"There were {ds_coffee_pref_count[0][1]} students who were assigned that value.\")"
   ]
  },
  {
   "cell_type": "markdown",
   "metadata": {},
   "source": [
    "#### What is the least frequent coffee preference for web development students?"
   ]
  },
  {
   "cell_type": "code",
   "execution_count": 173,
   "metadata": {},
   "outputs": [
    {
     "name": "stdout",
     "output_type": "stream",
     "text": [
      "['light', 'light', 'dark', 'dark', 'medium', 'light', 'medium']\n"
     ]
    }
   ],
   "source": [
    "# Like above, we can create a list of coffee preferences\n",
    "wd_coffee_pref_list = [student['coffee_preference'] for student in students if student['course'] == 'web development']\n",
    "print(wd_coffee_pref_list)"
   ]
  },
  {
   "cell_type": "code",
   "execution_count": 174,
   "metadata": {},
   "outputs": [
    {
     "name": "stdout",
     "output_type": "stream",
     "text": [
      "{'light': 3, 'dark': 2, 'medium': 2}\n"
     ]
    }
   ],
   "source": [
    "# Now we can check this list for the smallest value \n",
    "# Lets create a dictionary that maps the coffee_pref to their frequency\n",
    "coffee_count = {}\n",
    "for pref in wd_coffee_pref_list:\n",
    "    if pref not in coffee_count:\n",
    "        coffee_count[pref] = 1\n",
    "    else:\n",
    "        coffee_count[pref] += 1\n",
    "\n",
    "print(coffee_count)"
   ]
  },
  {
   "cell_type": "code",
   "execution_count": 175,
   "metadata": {},
   "outputs": [
    {
     "name": "stdout",
     "output_type": "stream",
     "text": [
      "dark\n"
     ]
    }
   ],
   "source": [
    "# Now we can order this dictionary by the values and return the key with the lowest value\n",
    "least_freq_coffee_wd = min(coffee_count, key = coffee_count.get) #Gets the key with the lowest value\n",
    "print(least_freq_coffee_wd)"
   ]
  },
  {
   "cell_type": "code",
   "execution_count": 180,
   "metadata": {},
   "outputs": [
    {
     "name": "stdout",
     "output_type": "stream",
     "text": [
      "[('dark', 2), ('medium', 2), ('light', 3)]\n"
     ]
    }
   ],
   "source": [
    "# Lets find out if there was a tie for the lowest value\n",
    "sorted_coffee_count = sorted(coffee_count.items(), key = lambda x:x[1])\n",
    "print(sorted_coffee_count)\n",
    "# This has created a list of tuples sorted by their values (in this case the second spot of each tuple)\n",
    "# We know that the first tuple in our list is already our established minimum value\n",
    "# So lets check if any other tuples have the same value\n",
    "coffee_count_tied_preferences = [sorted_coffee_count[0][0]]\n",
    "for i in range(1, len(sorted_coffee_count)):\n",
    "    if sorted_coffee_count[i][1] == sorted_coffee_count[0][1]:\n",
    "        coffee_count_tied_preferences.append(sorted_coffee_count[i][0])"
   ]
  },
  {
   "cell_type": "code",
   "execution_count": 184,
   "metadata": {},
   "outputs": [
    {
     "name": "stdout",
     "output_type": "stream",
     "text": [
      "2\n",
      "['dark', 'medium']\n"
     ]
    }
   ],
   "source": [
    "# We have now appended any coffee preference that tied with 'dark' for the smallest amount\n",
    "# if there is more than one element in this list, then we have a tie\n",
    "print(len(coffee_count_tied_preferences))\n",
    "# Since we know there are multiple coffee preferences, lets look at what is in the list\n",
    "print(coffee_count_tied_preferences)"
   ]
  },
  {
   "cell_type": "code",
   "execution_count": 185,
   "metadata": {},
   "outputs": [
    {
     "name": "stdout",
     "output_type": "stream",
     "text": [
      "A least frequent coffee preference is dark with 2 students choosing this.\n",
      "A least frequent coffee preference is medium with 2 students choosing this.\n"
     ]
    }
   ],
   "source": [
    "# Well, well, well...it looks like we have a tie between dark and medium. \n",
    "# Lets print a final statement of the least frequent coffee preferences and their corresponding counts\n",
    "for pref in coffee_count_tied_preferences:\n",
    "    print(f\"A least frequent coffee preference is {pref} with {coffee_count[pref]} students choosing this.\")"
   ]
  },
  {
   "cell_type": "markdown",
   "metadata": {},
   "source": [
    "#### What is the average grade for students with at least 2 pets?"
   ]
  },
  {
   "cell_type": "code",
   "execution_count": 186,
   "metadata": {},
   "outputs": [
    {
     "name": "stdout",
     "output_type": "stream",
     "text": [
      "[[73, 66, 83, 92], [78, 98, 85, 65], [87, 79, 90, 99], [74, 99, 93, 89], [70, 92, 65, 99]]\n"
     ]
    }
   ],
   "source": [
    "# Each pet is stored as a dictionary in a list mapped to the pet key\n",
    "# If we use the length of the value for the pet key, we can filter the grades that we collect from the dataset\n",
    "student_grades_2_plus_pets = [student['grades'] for student in students if len(student['pets']) >= 2]\n",
    "print(student_grades_2_plus_pets)"
   ]
  },
  {
   "cell_type": "code",
   "execution_count": 194,
   "metadata": {},
   "outputs": [
    {
     "name": "stdout",
     "output_type": "stream",
     "text": [
      "The average grade for students who have 2 or more pets is 83.8\n"
     ]
    }
   ],
   "source": [
    "# Now that we have all the grades for the students with at least 2 pets, we can find an average \n",
    "grade_total_2_plus_pets = 0\n",
    "num_grades_total_2_plus_pets = 0\n",
    "for grades in student_grades_2_plus_pets:\n",
    "    for grade in grades:\n",
    "        grade_total_2_plus_pets += grade\n",
    "        num_grades_total_2_plus_pets += 1\n",
    "\n",
    "avg_grade_2_plus_pets = grade_total_2_plus_pets / num_grades_total_2_plus_pets\n",
    "print(f\"The average grade for students who have 2 or more pets is {avg_grade_2_plus_pets}\")"
   ]
  },
  {
   "cell_type": "markdown",
   "metadata": {},
   "source": [
    "#### How many students have 3 pets?"
   ]
  },
  {
   "cell_type": "code",
   "execution_count": 202,
   "metadata": {},
   "outputs": [
    {
     "name": "stdout",
     "output_type": "stream",
     "text": [
      "There is 1 student with 3 pets.\n"
     ]
    }
   ],
   "source": [
    "# We can count the length of a list made from the dataset where we only include dictionaries\n",
    "# that have a pet value length of 3\n",
    "student_dict_3_pets = [student for student in students if len(student['pets']) == 3]\n",
    "if len(student_dict_3_pets) == 0:\n",
    "    print(\"There are no students with 3 pets.\")\n",
    "elif len(student_dict_3_pets) == 1:\n",
    "    print(\"There is 1 student with 3 pets.\")\n",
    "else:\n",
    "    print(f\"There are {len(student_dict_3_pets)} students with 3 pets.\")"
   ]
  },
  {
   "cell_type": "markdown",
   "metadata": {},
   "source": [
    "#### What is the average grade for students with 0 pets?"
   ]
  },
  {
   "cell_type": "code",
   "execution_count": 63,
   "metadata": {},
   "outputs": [
    {
     "name": "stdout",
     "output_type": "stream",
     "text": [
      "[[75, 73, 86, 100], [76, 70, 96, 81]]\n"
     ]
    }
   ],
   "source": [
    "# Filter out only the students w/o pets\n",
    "student_grades_no_pets = [student['grades'] for student in students if student['pets'] == []]\n",
    "print(student_grades_no_pets)"
   ]
  },
  {
   "cell_type": "code",
   "execution_count": 70,
   "metadata": {},
   "outputs": [
    {
     "name": "stdout",
     "output_type": "stream",
     "text": [
      "The average grade of students with no pets is 82.125\n"
     ]
    }
   ],
   "source": [
    "# Sum up all the grades\n",
    "grade_total_no_pets = 0\n",
    "\n",
    "for grades in student_grades_no_pets:\n",
    "    for grade in grades:\n",
    "        grade_total_no_pets += grade\n",
    "        \n",
    "total_num_grades_no_pets = 0\n",
    "for grades in student_grades_no_pets:\n",
    "    total_num_grades_no_pets += len(grades)\n",
    "\n",
    "# Divide by the number of grades to get the average\n",
    "\n",
    "print(f\"The average grade of students with no pets is {grade_total_no_pets / total_num_grades_no_pets}\")"
   ]
  },
  {
   "cell_type": "markdown",
   "metadata": {},
   "source": [
    "#### What is the average grade for web development students? "
   ]
  },
  {
   "cell_type": "code",
   "execution_count": 204,
   "metadata": {},
   "outputs": [
    {
     "name": "stdout",
     "output_type": "stream",
     "text": [
      "[[70, 91, 82, 71], [70, 89, 69, 65], [78, 98, 85, 65], [69, 94, 89, 86], [82, 92, 91, 65], [80, 70, 68, 98], [73, 99, 86, 98]]\n"
     ]
    }
   ],
   "source": [
    "# Filter out only the web development students\n",
    "student_grades_web_dev = [student['grades'] for student in students if student['course'] == 'web development']\n",
    "print(student_grades_web_dev)"
   ]
  },
  {
   "cell_type": "code",
   "execution_count": 205,
   "metadata": {},
   "outputs": [
    {
     "name": "stdout",
     "output_type": "stream",
     "text": [
      "The average grade of students with no pets is 81.17857142857143\n"
     ]
    }
   ],
   "source": [
    "# Sum up the grades and divide by the total number of grades\n",
    "grade_total_web_dev = 0\n",
    "\n",
    "for grades in student_grades_web_dev:\n",
    "    for grade in grades:\n",
    "        grade_total_web_dev += grade\n",
    "        \n",
    "total_num_grades_web_dev = 0\n",
    "for grades in student_grades_web_dev:\n",
    "    total_num_grades_web_dev += len(grades)\n",
    "\n",
    "# Divide by the number of grades to get the average\n",
    "\n",
    "print(f\"The average grade of students with no pets is {grade_total_web_dev / total_num_grades_web_dev}\")"
   ]
  },
  {
   "cell_type": "markdown",
   "metadata": {},
   "source": [
    "#### What is the average grade for data science students? "
   ]
  },
  {
   "cell_type": "markdown",
   "metadata": {},
   "source": [
    "#### What is the average grade range (i.e. highest grade - lowest grade) for dark coffee drinkers? "
   ]
  },
  {
   "cell_type": "markdown",
   "metadata": {},
   "source": [
    "#### What is the average number of pets for medium coffee drinkers? "
   ]
  },
  {
   "cell_type": "markdown",
   "metadata": {},
   "source": [
    "#### What is the most common type of pet for web development students? "
   ]
  },
  {
   "cell_type": "markdown",
   "metadata": {},
   "source": [
    "#### What is the average name length? "
   ]
  },
  {
   "cell_type": "markdown",
   "metadata": {},
   "source": [
    "#### What is the highest pet age for light coffee drinkers?"
   ]
  }
 ],
 "metadata": {
  "kernelspec": {
   "display_name": "Python 3",
   "language": "python",
   "name": "python3"
  },
  "language_info": {
   "codemirror_mode": {
    "name": "ipython",
    "version": 3
   },
   "file_extension": ".py",
   "mimetype": "text/x-python",
   "name": "python",
   "nbconvert_exporter": "python",
   "pygments_lexer": "ipython3",
   "version": "3.7.6"
  }
 },
 "nbformat": 4,
 "nbformat_minor": 4
}
