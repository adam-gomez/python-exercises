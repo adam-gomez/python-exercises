{
 "cells": [
  {
   "cell_type": "markdown",
   "metadata": {},
   "source": [
    "The following questions reference the students data structure below. Write the python code to answer the following questions:\n",
    "\n",
    "How many students are there? How many students prefer light coffee? For each type of coffee roast?\n",
    "How many types of each pet are there?\n",
    "How many grades does each student have? Do they all have the same number of grades?\n",
    "What is each student's grade average?\n",
    "How many pets does each student have?\n",
    "How many students are in web development? data science?\n",
    "What is the average number of pets for students in web development?\n",
    "What is the average pet age for students in data science?\n",
    "What is most frequent coffee preference for data science students?\n",
    "What is the least frequent coffee preference for web development students?\n",
    "What is the average grade for students with at least 2 pets?\n",
    "How many students have 3 pets?\n",
    "What is the average grade for students with 0 pets?\n",
    "What is the average grade for web development students? data science students?\n",
    "What is the average grade range (i.e. highest grade - lowest grade) for dark coffee drinkers?\n",
    "What is the average number of pets for medium coffee drinkers?\n",
    "What is the most common type of pet for web development students?\n",
    "What is the average name length?\n",
    "What is the highest pet age for light coffee drinkers?"
   ]
  },
  {
   "cell_type": "code",
   "execution_count": 2,
   "metadata": {},
   "outputs": [],
   "source": [
    "students = [\n",
    "    {\n",
    "        \"id\": \"100001\",\n",
    "        \"student\": \"Ada Lovelace\",\n",
    "        \"coffee_preference\": \"light\",\n",
    "        \"course\": \"web development\",\n",
    "        \"grades\": [70, 91, 82, 71],\n",
    "        \"pets\": [{\"species\": \"horse\", \"age\": 8}],\n",
    "    },\n",
    "    {\n",
    "        \"id\": \"100002\",\n",
    "        \"student\": \"Thomas Bayes\",\n",
    "        \"coffee_preference\": \"medium\",\n",
    "        \"course\": \"data science\",\n",
    "        \"grades\": [75, 73, 86, 100],\n",
    "        \"pets\": [],\n",
    "    },\n",
    "    {\n",
    "        \"id\": \"100003\",\n",
    "        \"student\": \"Marie Curie\",\n",
    "        \"coffee_preference\": \"light\",\n",
    "        \"course\": \"web development\",\n",
    "        \"grades\": [70, 89, 69, 65],\n",
    "        \"pets\": [{\"species\": \"cat\", \"age\": 0}],\n",
    "    },\n",
    "    {\n",
    "        \"id\": \"100004\",\n",
    "        \"student\": \"Grace Hopper\",\n",
    "        \"coffee_preference\": \"dark\",\n",
    "        \"course\": \"data science\",\n",
    "        \"grades\": [73, 66, 83, 92],\n",
    "        \"pets\": [{\"species\": \"dog\", \"age\": 4}, {\"species\": \"cat\", \"age\": 4}],\n",
    "    },\n",
    "    {\n",
    "        \"id\": \"100005\",\n",
    "        \"student\": \"Alan Turing\",\n",
    "        \"coffee_preference\": \"dark\",\n",
    "        \"course\": \"web development\",\n",
    "        \"grades\": [78, 98, 85, 65],\n",
    "        \"pets\": [\n",
    "            {\"species\": \"horse\", \"age\": 6},\n",
    "            {\"species\": \"horse\", \"age\": 7},\n",
    "            {\"species\": \"dog\", \"age\": 5},\n",
    "        ],\n",
    "    },\n",
    "    {\n",
    "        \"id\": \"100006\",\n",
    "        \"student\": \"Rosalind Franklin\",\n",
    "        \"coffee_preference\": \"dark\",\n",
    "        \"course\": \"data science\",\n",
    "        \"grades\": [76, 70, 96, 81],\n",
    "        \"pets\": [],\n",
    "    },\n",
    "    {\n",
    "        \"id\": \"100007\",\n",
    "        \"student\": \"Elizabeth Blackwell\",\n",
    "        \"coffee_preference\": \"dark\",\n",
    "        \"course\": \"web development\",\n",
    "        \"grades\": [69, 94, 89, 86],\n",
    "        \"pets\": [{\"species\": \"cat\", \"age\": 10}],\n",
    "    },\n",
    "    {\n",
    "        \"id\": \"100008\",\n",
    "        \"student\": \"Rene Descartes\",\n",
    "        \"coffee_preference\": \"medium\",\n",
    "        \"course\": \"data science\",\n",
    "        \"grades\": [87, 79, 90, 99],\n",
    "        \"pets\": [{\"species\": \"cat\", \"age\": 10}, {\"species\": \"cat\", \"age\": 8}],\n",
    "    },\n",
    "    {\n",
    "        \"id\": \"100009\",\n",
    "        \"student\": \"Ahmed Zewail\",\n",
    "        \"coffee_preference\": \"medium\",\n",
    "        \"course\": \"data science\",\n",
    "        \"grades\": [74, 99, 93, 89],\n",
    "        \"pets\": [{\"species\": \"cat\", \"age\": 0}, {\"species\": \"cat\", \"age\": 0}],\n",
    "    },\n",
    "    {\n",
    "        \"id\": \"100010\",\n",
    "        \"student\": \"Chien-Shiung Wu\",\n",
    "        \"coffee_preference\": \"medium\",\n",
    "        \"course\": \"web development\",\n",
    "        \"grades\": [82, 92, 91, 65],\n",
    "        \"pets\": [{\"species\": \"cat\", \"age\": 8}],\n",
    "    },\n",
    "    {\n",
    "        \"id\": \"100011\",\n",
    "        \"student\": \"William Sanford Nye\",\n",
    "        \"coffee_preference\": \"dark\",\n",
    "        \"course\": \"data science\",\n",
    "        \"grades\": [70, 92, 65, 99],\n",
    "        \"pets\": [{\"species\": \"cat\", \"age\": 8}, {\"species\": \"cat\", \"age\": 5}],\n",
    "    },\n",
    "    {\n",
    "        \"id\": \"100012\",\n",
    "        \"student\": \"Carl Sagan\",\n",
    "        \"coffee_preference\": \"medium\",\n",
    "        \"course\": \"data science\",\n",
    "        \"grades\": [100, 86, 91, 87],\n",
    "        \"pets\": [{\"species\": \"cat\", \"age\": 10}],\n",
    "    },\n",
    "    {\n",
    "        \"id\": \"100013\",\n",
    "        \"student\": \"Jane Goodall\",\n",
    "        \"coffee_preference\": \"light\",\n",
    "        \"course\": \"web development\",\n",
    "        \"grades\": [80, 70, 68, 98],\n",
    "        \"pets\": [{\"species\": \"horse\", \"age\": 4}],\n",
    "    },\n",
    "    {\n",
    "        \"id\": \"100014\",\n",
    "        \"student\": \"Richard Feynman\",\n",
    "        \"coffee_preference\": \"medium\",\n",
    "        \"course\": \"web development\",\n",
    "        \"grades\": [73, 99, 86, 98],\n",
    "        \"pets\": [{\"species\": \"dog\", \"age\": 6}],\n",
    "    },\n",
    "]"
   ]
  },
  {
   "cell_type": "markdown",
   "metadata": {},
   "source": [
    "#### How many students are there?"
   ]
  },
  {
   "cell_type": "code",
   "execution_count": 23,
   "metadata": {},
   "outputs": [
    {
     "name": "stdout",
     "output_type": "stream",
     "text": [
      "There are 14 students in the data set.\n"
     ]
    }
   ],
   "source": [
    "print(f'There are {len(students)} students in the data set.')"
   ]
  },
  {
   "cell_type": "markdown",
   "metadata": {},
   "source": [
    "#### How many students prefer light coffee? For each type of coffee roast?"
   ]
  },
  {
   "cell_type": "code",
   "execution_count": 4,
   "metadata": {},
   "outputs": [
    {
     "name": "stdout",
     "output_type": "stream",
     "text": [
      "How many students prefer light coffee? 3\n",
      "How many students prefer medium coffee? 6\n",
      "How many students prefer dark coffee? 5\n"
     ]
    }
   ],
   "source": [
    "def coffee_pref(coffee_pref):    \n",
    "    num_coffee = 0\n",
    "    for student in students:\n",
    "        if student['coffee_preference'] == coffee_pref:\n",
    "            num_coffee += 1\n",
    "    print(f\"How many students prefer {coffee_pref} coffee? {num_coffee}\")\n",
    "\n",
    "coffee_pref('light')\n",
    "coffee_pref('medium')\n",
    "coffee_pref('dark')"
   ]
  },
  {
   "cell_type": "markdown",
   "metadata": {},
   "source": [
    "#### How many types of each pet are there?"
   ]
  },
  {
   "cell_type": "code",
   "execution_count": 21,
   "metadata": {},
   "outputs": [
    {
     "name": "stdout",
     "output_type": "stream",
     "text": [
      "<class 'list'>\n"
     ]
    }
   ],
   "source": [
    "# STEP ONE: EVALUATING THE DATASET AND ACCESSING THE 'SPECIES' KEY, VALUE PAIR\n",
    "\n",
    "print(type(students))\n",
    "\n",
    "# Looking at the type() of the 'students' dataset, we see that this is a single \n",
    "# object <class 'list'>\n",
    "\n",
    "# The problem with this list, is that we cannot access list items the way that we \n",
    "# access values in a dictionary\n",
    "\n",
    "# If we were to try students['pets'], we would recieve a \n",
    "# TypeError (list indices must be int or slices, not str)"
   ]
  },
  {
   "cell_type": "code",
   "execution_count": 24,
   "metadata": {},
   "outputs": [
    {
     "name": "stdout",
     "output_type": "stream",
     "text": [
      "{'id': '100002', 'student': 'Thomas Bayes', 'coffee_preference': 'medium', 'course': 'data science', 'grades': [75, 73, 86, 100], 'pets': []}\n"
     ]
    }
   ],
   "source": [
    "# If we instead use an integer index, we can capture the information \n",
    "# from a single element of the list\n",
    "\n",
    "print(students[1])\n",
    "\n",
    "# We see all the information surrounding a single student \n",
    "# (id, student, coffee_preference, course, grades, pets)"
   ]
  },
  {
   "cell_type": "code",
   "execution_count": 13,
   "metadata": {},
   "outputs": [
    {
     "name": "stdout",
     "output_type": "stream",
     "text": [
      "{'id': '100001', 'student': 'Ada Lovelace', 'coffee_preference': 'light', 'course': 'web development', 'grades': [70, 91, 82, 71], 'pets': [{'species': 'horse', 'age': 8}]}\n",
      "{'id': '100002', 'student': 'Thomas Bayes', 'coffee_preference': 'medium', 'course': 'data science', 'grades': [75, 73, 86, 100], 'pets': []}\n",
      "{'id': '100003', 'student': 'Marie Curie', 'coffee_preference': 'light', 'course': 'web development', 'grades': [70, 89, 69, 65], 'pets': [{'species': 'cat', 'age': 0}]}\n",
      "{'id': '100004', 'student': 'Grace Hopper', 'coffee_preference': 'dark', 'course': 'data science', 'grades': [73, 66, 83, 92], 'pets': [{'species': 'dog', 'age': 4}, {'species': 'cat', 'age': 4}]}\n",
      "{'id': '100005', 'student': 'Alan Turing', 'coffee_preference': 'dark', 'course': 'web development', 'grades': [78, 98, 85, 65], 'pets': [{'species': 'horse', 'age': 6}, {'species': 'horse', 'age': 7}, {'species': 'dog', 'age': 5}]}\n",
      "{'id': '100006', 'student': 'Rosalind Franklin', 'coffee_preference': 'dark', 'course': 'data science', 'grades': [76, 70, 96, 81], 'pets': []}\n",
      "{'id': '100007', 'student': 'Elizabeth Blackwell', 'coffee_preference': 'dark', 'course': 'web development', 'grades': [69, 94, 89, 86], 'pets': [{'species': 'cat', 'age': 10}]}\n",
      "{'id': '100008', 'student': 'Rene Descartes', 'coffee_preference': 'medium', 'course': 'data science', 'grades': [87, 79, 90, 99], 'pets': [{'species': 'cat', 'age': 10}, {'species': 'cat', 'age': 8}]}\n",
      "{'id': '100009', 'student': 'Ahmed Zewail', 'coffee_preference': 'medium', 'course': 'data science', 'grades': [74, 99, 93, 89], 'pets': [{'species': 'cat', 'age': 0}, {'species': 'cat', 'age': 0}]}\n",
      "{'id': '100010', 'student': 'Chien-Shiung Wu', 'coffee_preference': 'medium', 'course': 'web development', 'grades': [82, 92, 91, 65], 'pets': [{'species': 'cat', 'age': 8}]}\n",
      "{'id': '100011', 'student': 'William Sanford Nye', 'coffee_preference': 'dark', 'course': 'data science', 'grades': [70, 92, 65, 99], 'pets': [{'species': 'cat', 'age': 8}, {'species': 'cat', 'age': 5}]}\n",
      "{'id': '100012', 'student': 'Carl Sagan', 'coffee_preference': 'medium', 'course': 'data science', 'grades': [100, 86, 91, 87], 'pets': [{'species': 'cat', 'age': 10}]}\n",
      "{'id': '100013', 'student': 'Jane Goodall', 'coffee_preference': 'light', 'course': 'web development', 'grades': [80, 70, 68, 98], 'pets': [{'species': 'horse', 'age': 4}]}\n",
      "{'id': '100014', 'student': 'Richard Feynman', 'coffee_preference': 'medium', 'course': 'web development', 'grades': [73, 99, 86, 98], 'pets': [{'species': 'dog', 'age': 6}]}\n"
     ]
    }
   ],
   "source": [
    "# Looking at a single index helps us understand what is contained in each list element\n",
    "# In order to obtain all of the list elements, we can use a for loop\n",
    "\n",
    "for student in students:\n",
    "    print(student)\n",
    "\n",
    "# Now we can access each of the indices in our list and display them"
   ]
  },
  {
   "cell_type": "code",
   "execution_count": 27,
   "metadata": {},
   "outputs": [
    {
     "name": "stdout",
     "output_type": "stream",
     "text": [
      "<class 'dict'>\n",
      "dict_keys(['id', 'student', 'coffee_preference', 'course', 'grades', 'pets'])\n"
     ]
    }
   ],
   "source": [
    "# If we look at the type of each list element, we can see that each element is a dictionary\n",
    "\n",
    "print(type(student))\n",
    "\n",
    "# Which keys do we have in each dictionary?\n",
    "\n",
    "print(students[0].keys())\n",
    "\n",
    "# We see from the dict_keys view object that we have:\n",
    "# id, student, coffee_preference, course, grades, pets\n",
    "# This computationally matches our visual scan of the elements earlier"
   ]
  },
  {
   "cell_type": "code",
   "execution_count": 28,
   "metadata": {},
   "outputs": [
    {
     "name": "stdout",
     "output_type": "stream",
     "text": [
      "[{'species': 'dog', 'age': 6}]\n"
     ]
    }
   ],
   "source": [
    "# Let's access the 'pets' key and see what values it contains\n",
    "# A simple way to do this is to create a variable that stores the value called from \n",
    "# the list element using its key ('pets')\n",
    "\n",
    "pets_access = student['pets']\n",
    "\n",
    "# Lets print what is in this variable\n",
    "\n",
    "print(pets_access)\n",
    "\n",
    "# Notice that while it does print the value, it only prints the very last value in the list\n",
    "# Python looks at all the info, and only returns the last matching key"
   ]
  },
  {
   "cell_type": "code",
   "execution_count": 29,
   "metadata": {},
   "outputs": [
    {
     "name": "stdout",
     "output_type": "stream",
     "text": [
      "<class 'list'>\n"
     ]
    }
   ],
   "source": [
    "# If we look at the type for the value that we pulled, we see that it is a list\n",
    "\n",
    "print(type(pets_access))"
   ]
  },
  {
   "cell_type": "code",
   "execution_count": 30,
   "metadata": {},
   "outputs": [
    {
     "name": "stdout",
     "output_type": "stream",
     "text": [
      "{'species': 'dog', 'age': 6}\n"
     ]
    }
   ],
   "source": [
    "# Lets add another for loop to access all the information from 'pets_access',\n",
    "# This will prepare us for a future step. Visual scan of the pets keys show the values\n",
    "# across all elements in students to be lists, some of which contain no data and some \n",
    "# which contain multiple elements (because the student had multiple pets)\n",
    "\n",
    "for pet in pets_access:\n",
    "    print(pet)"
   ]
  },
  {
   "cell_type": "code",
   "execution_count": 32,
   "metadata": {},
   "outputs": [],
   "source": [
    "# Now that we have honed it down to a single value, lets get the species data\n",
    "\n",
    "species_name = pet['species']"
   ]
  },
  {
   "cell_type": "code",
   "execution_count": 33,
   "metadata": {},
   "outputs": [
    {
     "name": "stdout",
     "output_type": "stream",
     "text": [
      "dog\n"
     ]
    }
   ],
   "source": [
    "# Lets look at what is sitting in species_name now:\n",
    "\n",
    "print(species_name)"
   ]
  },
  {
   "cell_type": "code",
   "execution_count": 37,
   "metadata": {},
   "outputs": [
    {
     "name": "stdout",
     "output_type": "stream",
     "text": [
      "horse\n",
      "cat\n",
      "dog\n",
      "cat\n",
      "horse\n",
      "horse\n",
      "dog\n",
      "cat\n",
      "cat\n",
      "cat\n",
      "cat\n",
      "cat\n",
      "cat\n",
      "cat\n",
      "cat\n",
      "cat\n",
      "horse\n",
      "dog\n"
     ]
    }
   ],
   "source": [
    "# STEP TWO: CAPTURING THE SPECIES DATA\n",
    "# Now that we have successfully shown the relative path that needs to be taken to\n",
    "# access a single piece of species data, we need to develop an function that can\n",
    "# capture all of the species data across all elements in the list\n",
    "# This function will not be built from scratch. We will build it using the steps we \n",
    "# have previously taken\n",
    "def print_pet_species():\n",
    "    for student in students: #This is going to look at all the dict type objects in the students list\n",
    "        pets_access = student['pets'] #Within an iteration, the pets_access variable is going to store the values for the pets key\n",
    "        for pet in pets_access: #The value for 'pets' (stored in pets_access) is a list, so we cycle through that list \n",
    "            species_name = pet['species'] # And with each cycle, we capture the species name data\n",
    "            print(species_name) # For now, we will add a print to visualize the captured data\n",
    "            \n",
    "print_pet_species() #call the function to test it\n",
    "\n",
    "# Now we can see that we have obtained a list of all of the pet species in all of the nested data"
   ]
  },
  {
   "cell_type": "code",
   "execution_count": 38,
   "metadata": {},
   "outputs": [],
   "source": [
    "# Now we want to create an empty list that all of this species data can go into\n",
    "species_data = []\n",
    "\n",
    "# We edit the previous function to append data to our empty list\n",
    "def get_pet_species():\n",
    "    for student in students: #This is going to look at all the dict type objects in the students list\n",
    "        pets_access = student['pets'] # Within an iteration, the pets_access variable is going to store the values for the pets key\n",
    "        for pet in pets_access: # The value for 'pets' (stored in pets_access) is a list, so we cycle through that list \n",
    "            species_name = pet['species'] # And with each cycle, we capture the species name data\n",
    "            species_data.append(species_name) # Instead of printing, we are going to append the captured data to our empty list\n",
    "            \n",
    "get_pet_species() # call the function to capture the data and put it in species_data"
   ]
  },
  {
   "cell_type": "code",
   "execution_count": 39,
   "metadata": {},
   "outputs": [
    {
     "name": "stdout",
     "output_type": "stream",
     "text": [
      "['horse', 'cat', 'dog', 'cat', 'horse', 'horse', 'dog', 'cat', 'cat', 'cat', 'cat', 'cat', 'cat', 'cat', 'cat', 'cat', 'horse', 'dog']\n"
     ]
    }
   ],
   "source": [
    "# Lets look at the data held in our list\n",
    "\n",
    "print(species_data)\n",
    "\n",
    "# We see that it contains every species recorded in the students list"
   ]
  },
  {
   "cell_type": "code",
   "execution_count": 40,
   "metadata": {},
   "outputs": [],
   "source": [
    "# We want to clean up this list, so that it only shows unique names\n",
    "# For this we can create another empty list, iterate through our species_data, and \n",
    "# append the species to our empty list only if it hasn't already been appended\n",
    "\n",
    "unique_species_data = []\n",
    "for species_name in species_data:\n",
    "    if species_name not in unique_species_data:\n",
    "        unique_species_data.append(species_name)"
   ]
  },
  {
   "cell_type": "code",
   "execution_count": 44,
   "metadata": {},
   "outputs": [
    {
     "name": "stdout",
     "output_type": "stream",
     "text": [
      "There are 3 different species in the students list.\n",
      "Those species are:\n",
      "horse\n",
      "cat\n",
      "dog\n"
     ]
    }
   ],
   "source": [
    "# Now lets see how many different types of species there are in the students list\n",
    "print(f\"There are {len(unique_species_data)} different species in the students list.\")\n",
    "print(\"Those species are:\")\n",
    "for unique_species_name in unique_species_data:\n",
    "    print(unique_species_name)"
   ]
  },
  {
   "cell_type": "markdown",
   "metadata": {},
   "source": [
    "#### How many grades does each student have?"
   ]
  },
  {
   "cell_type": "code",
   "execution_count": null,
   "metadata": {},
   "outputs": [],
   "source": [
    "# Plan of action: Repeat most steps from previous question, but at the end, \n",
    "# instead of appending the grade values into a list, use a counter to count the number\n",
    "# of grades for each student and then append that into a list\n",
    "# if time, create a dictionary of students to grade by zipping their names and their\n",
    "# grade counts together"
   ]
  }
 ],
 "metadata": {
  "kernelspec": {
   "display_name": "Python 3",
   "language": "python",
   "name": "python3"
  },
  "language_info": {
   "codemirror_mode": {
    "name": "ipython",
    "version": 3
   },
   "file_extension": ".py",
   "mimetype": "text/x-python",
   "name": "python",
   "nbconvert_exporter": "python",
   "pygments_lexer": "ipython3",
   "version": "3.7.6"
  }
 },
 "nbformat": 4,
 "nbformat_minor": 4
}
